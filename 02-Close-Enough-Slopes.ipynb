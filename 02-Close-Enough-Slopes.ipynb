{
 "cells": [
  {
   "cell_type": "markdown",
   "metadata": {},
   "source": [
    "# Slopes"
   ]
  },
  {
   "cell_type": "code",
   "execution_count": 1,
   "metadata": {
    "collapsed": false
   },
   "outputs": [
    {
     "data": {
      "text/html": [
       "<link href='http://fonts.googleapis.com/css?family=Open+Sans:100,300,400,500,700,800,900,100italic,300italic,400italic,500italic,700italic,800italic,900italic' rel='stylesheet' type='text/css'>\n",
       "<link href='http://fonts.googleapis.com/css?family=Arvo:400,700,400italic' rel='stylesheet' type='text/css'>\n",
       "<link href='http://fonts.googleapis.com/css?family=PT+Mono' rel='stylesheet' type='text/css'>\n",
       "<link href='http://fonts.googleapis.com/css?family=Shadows+Into+Light' rel='stylesheet' type='text/css'>\n",
       "<link href='http://fonts.googleapis.com/css?family=Nixie+One' rel='stylesheet' type='text/css'>\n",
       "<style>\n",
       "\n",
       "@font-face {\n",
       "    font-family: \"Computer Modern\";\n",
       "    src: url('http://mirrors.ctan.org/fonts/cm-unicode/fonts/otf/cmunss.otf');\n",
       "}\n",
       "\n",
       "#notebook_panel { /* main background */\n",
       "    background: rgb(245,245,245);\n",
       "}\n",
       "\n",
       "div.cell { /* set cell width */\n",
       "    width: 1000px;\n",
       "}\n",
       "\n",
       "div #notebook { /* centre the content */\n",
       "    background: #fff; /* white background for content */\n",
       "    width: 1200px;\n",
       "    margin: auto;\n",
       "    padding-left: 0em;\n",
       "}\n",
       "\n",
       "#notebook li { /* More space between bullet points */\n",
       "margin-top:0.8em;\n",
       "}\n",
       "\n",
       "/* draw border around running cells */\n",
       "div.cell.border-box-sizing.code_cell.running { \n",
       "    border: 1px solid #111;\n",
       "}\n",
       "\n",
       "/* Put a solid color box around each cell and its output, visually linking them*/\n",
       "div.cell.code_cell {\n",
       "    background-color: rgb(256,256,256); \n",
       "    border-radius: 0px; \n",
       "    padding: 0.5em;\n",
       "    margin-left:1em;\n",
       "    margin-top: 1em;\n",
       "}\n",
       "\n",
       "div.text_cell_render{\n",
       "    font-family: 'Open Sans' sans-serif;\n",
       "    line-height: 140%;\n",
       "    font-size: 125%;\n",
       "    font-weight: 400;\n",
       "    width:900px;\n",
       "    margin-left:auto;\n",
       "    margin-right:auto;\n",
       "}\n",
       "\n",
       "\n",
       "/* Formatting for header cells */\n",
       ".text_cell_render h1 {\n",
       "    font-family: 'Arvo', serif;\n",
       "    font-style:regular;\n",
       "    font-weight: 400;    \n",
       "    font-size: 45pt;\n",
       "    line-height: 100%;\n",
       "    color: rgb(0,51,102);\n",
       "    margin-bottom: 0.5em;\n",
       "    margin-top: 0.5em;\n",
       "    display: block;\n",
       "}\t\n",
       ".text_cell_render h2 {\n",
       "    font-family: 'Arvo', serif;\n",
       "    font-weight: 400;\n",
       "    font-size: 30pt;\n",
       "    line-height: 100%;\n",
       "    color: rgb(0,51,102);\n",
       "    margin-bottom: 0.1em;\n",
       "    margin-top: 0.3em;\n",
       "    display: block;\n",
       "}\t\n",
       "\n",
       ".text_cell_render h3 {\n",
       "    font-family: 'Arvo', serif;\n",
       "    margin-top:16px;\n",
       "\tfont-size: 22pt;\n",
       "    font-weight: 600;\n",
       "    margin-bottom: 3px;\n",
       "    font-style: regular;\n",
       "    color: rgb(102,102,0);\n",
       "}\n",
       "\n",
       ".text_cell_render h4 {    /*Use this for captions*/\n",
       "    font-family: 'Arvo', serif;\n",
       "    font-size: 14pt;\n",
       "    text-align: center;\n",
       "    margin-top: 0em;\n",
       "    margin-bottom: 2em;\n",
       "    font-style: regular;\n",
       "}\n",
       "\n",
       ".text_cell_render h5 {  /*Use this for small titles*/\n",
       "    font-family: 'Arvo', sans-serif;\n",
       "    font-weight: 400;\n",
       "    font-size: 16pt;\n",
       "    color: rgb(163,0,0);\n",
       "    font-style: italic;\n",
       "    margin-bottom: .1em;\n",
       "    margin-top: 0.8em;\n",
       "    display: block;\n",
       "}\n",
       "\n",
       ".text_cell_render h6 { /*use this for copyright note*/\n",
       "    font-family: 'PT Mono', sans-serif;\n",
       "    font-weight: 300;\n",
       "    font-size: 9pt;\n",
       "    line-height: 100%;\n",
       "    color: grey;\n",
       "    margin-bottom: 1px;\n",
       "    margin-top: 1px;\n",
       "}\n",
       "\n",
       ".CodeMirror{\n",
       "        font-family: \"PT Mono\";\n",
       "        font-size: 90%;\n",
       "}\n",
       "\n",
       "</style>\n",
       "<script>\n",
       "    MathJax.Hub.Config({\n",
       "                        TeX: {\n",
       "                           extensions: [\"AMSmath.js\"],\n",
       "                           equationNumbers: { autoNumber: \"AMS\", useLabelIds: true}\n",
       "                           },\n",
       "                tex2jax: {\n",
       "                    inlineMath: [ ['$','$'], [\"\\\\(\",\"\\\\)\"] ],\n",
       "                    displayMath: [ ['$$','$$'], [\"\\\\[\",\"\\\\]\"] ]\n",
       "                },\n",
       "                displayAlign: 'center', // Change this to 'center' to center equations.\n",
       "                \"HTML-CSS\": {\n",
       "                    styles: {'.MathJax_Display': {\"margin\": 4}}\n",
       "                }\n",
       "        });\n",
       "</script>\n"
      ],
      "text/plain": [
       "<IPython.core.display.HTML object>"
      ]
     },
     "execution_count": 1,
     "metadata": {},
     "output_type": "execute_result"
    }
   ],
   "source": [
    "from IPython.core.display import HTML\n",
    "css_file = 'https://raw.githubusercontent.com/ngcm/training-public/master/ipython_notebook_styles/ngcmstyle.css'\n",
    "HTML(url=css_file)"
   ]
  },
  {
   "cell_type": "markdown",
   "metadata": {},
   "source": [
    "$$\n",
    "\\newcommand{\\dt}{\\Delta t}\n",
    "\\newcommand{\\ydt}[1]{y^{({#1})}(X)}\n",
    "\\newcommand{\\sm}[1]{s_m^{({#1})}}\n",
    "$$\n",
    "Let's suppose that instead of caring about the answer $y$ we care about the algorithm behaving in the right fashion, $\\ydt{\\dt} = y(X) + c_1 \\dt^{s_e}$."
   ]
  },
  {
   "cell_type": "markdown",
   "metadata": {},
   "source": [
    "Given three pieces of data we can measure the slope:\n",
    "\n",
    "$$\n",
    "\\begin{align}\n",
    "  s_m & = \\log_2 \\left| \\frac{\\ydt{4\\dt}-\\ydt{2\\dt}}{\\ydt{2\\dt}-\\ydt{\\dt}} \\right| \\\\ \n",
    "  & = \\log_2 \\left| \\frac{y(X) + c_1 4^{s_e} \\dt^{s_e} - y(X) + c_1 2^{s_e} \\dt^{s_e} + {\\cal O}(\\dt^{s_e+1})}{y(X) + c_1 2^{s_e} \\dt^{s_e} - y(X) + c_1 \\dt^{s_e} + {\\cal O}(\\dt^{s_e+1)}} \\right| \\\\\n",
    "  & = \\log_2 \\left| 2^{s_e} + {\\cal O}(\\dt) \\right| \\\\\n",
    "  & = s_e + {\\cal O}(\\dt).\n",
    "\\end{align}\n",
    "$$"
   ]
  },
  {
   "cell_type": "markdown",
   "metadata": {},
   "source": [
    "So now we can apply the same Richardson extrapolation tricks to our measured slope. If the measured slope is denoted $\\sm{\\dt}$ then we can use Richardson extrapolation as before to compute\n",
    "\n",
    "$$\n",
    "\\begin{align}\n",
    "  s_R &= 2\\sm{\\dt} - \\sm{2\\dt}, \\\\ E_R & = s_R - \\sm{\\dt}.\n",
    "\\end{align}\n",
    "$$\n",
    "\n",
    "We then state that our algorithm is *close enough* to correct if $s_e$ lies in the interval $s_R \\pm E_R$."
   ]
  },
  {
   "cell_type": "code",
   "execution_count": 1,
   "metadata": {
    "collapsed": false
   },
   "outputs": [],
   "source": [
    "from math import sin, cos, log, ceil\n",
    "import numpy\n",
    "from matplotlib import pyplot\n",
    "%matplotlib inline\n",
    "from matplotlib import rcParams\n",
    "rcParams['font.family'] = 'serif'\n",
    "rcParams['font.size'] = 16"
   ]
  },
  {
   "cell_type": "code",
   "execution_count": 2,
   "metadata": {
    "collapsed": true
   },
   "outputs": [],
   "source": [
    "# model parameters:\n",
    "g = 9.8      # gravity in m s^{-2}\n",
    "v_t = 30.0   # trim velocity in m s^{-1}   \n",
    "C_D = 1/40.  # drag coefficient --- or D/L if C_L=1\n",
    "C_L = 1.0    # for convenience, use C_L = 1\n",
    "\n",
    "### set initial conditions ###\n",
    "v0 = v_t     # start at the trim velocity (or add a delta)\n",
    "theta0 = 0.0 # initial angle of trajectory\n",
    "x0 = 0.0     # horizotal position is arbitrary\n",
    "y0 = 1000.0  # initial altitude"
   ]
  },
  {
   "cell_type": "code",
   "execution_count": 3,
   "metadata": {
    "collapsed": true
   },
   "outputs": [],
   "source": [
    "def f(u):\n",
    "    \"\"\"Returns the right-hand side of the phugoid system of equations.\n",
    "    \n",
    "    Parameters\n",
    "    ----------\n",
    "    u : array of float\n",
    "        array containing the solution at time n.\n",
    "        \n",
    "    Returns\n",
    "    -------\n",
    "    dudt : array of float\n",
    "        array containing the RHS given u.\n",
    "    \"\"\"\n",
    "    \n",
    "    v = u[0]\n",
    "    theta = u[1]\n",
    "    x = u[2]\n",
    "    y = u[3]\n",
    "    return numpy.array([-g*sin(theta) - C_D/C_L*g/v_t**2*v**2,\n",
    "                      -g*cos(theta)/v + g/v_t**2*v,\n",
    "                      v*cos(theta),\n",
    "                      v*sin(theta)])"
   ]
  },
  {
   "cell_type": "code",
   "execution_count": 4,
   "metadata": {
    "collapsed": true
   },
   "outputs": [],
   "source": [
    "def euler_step(u, f, dt):\n",
    "    \"\"\"Returns the solution at the next time-step using Euler's method.\n",
    "    \n",
    "    Parameters\n",
    "    ----------\n",
    "    u : array of float\n",
    "        solution at the previous time-step.\n",
    "    f : function\n",
    "        function to compute the right hand-side of the system of equation.\n",
    "    dt : float\n",
    "        time-increment.\n",
    "    \n",
    "    Returns\n",
    "    -------\n",
    "    u_n_plus_1 : array of float\n",
    "        approximate solution at the next time step.\n",
    "    \"\"\"\n",
    "    \n",
    "    return u + dt * f(u)"
   ]
  },
  {
   "cell_type": "code",
   "execution_count": 13,
   "metadata": {
    "collapsed": true
   },
   "outputs": [],
   "source": [
    "T = 100.0\n",
    "dt_values = numpy.array([0.001*2**i for i in range(-1,3)])\n",
    "v_values = numpy.zeros_like(dt_values)\n",
    "for i, dt in enumerate(dt_values):\n",
    "    N = int(T/dt)+1\n",
    "    t = numpy.linspace(0.0, T, N)\n",
    "    u = numpy.empty((N, 4))\n",
    "    u[0] = numpy.array([v0, theta0, x0, y0])\n",
    "    for n in range(N-1):\n",
    "        u[n+1] = euler_step(u[n], f, dt)\n",
    "    v_values[i] = u[-1,0]"
   ]
  },
  {
   "cell_type": "code",
   "execution_count": 14,
   "metadata": {
    "collapsed": false
   },
   "outputs": [
    {
     "name": "stdout",
     "output_type": "stream",
     "text": [
      "Measured convergence rate (base dt 0.0005) is 1.011621.\n",
      "Measured convergence rate (base dt 0.001) is 1.023266.\n"
     ]
    }
   ],
   "source": [
    "s_m = numpy.zeros(2)\n",
    "for i in range(2):\n",
    "    s_m[i] = log(abs((v_values[2+i]-v_values[1+i])/(v_values[1+i]-v_values[0+i]))) / log(2.0)\n",
    "    print(\"Measured convergence rate (base dt {}) is {:.7g}.\".format(dt_values[i], s_m[i]))"
   ]
  },
  {
   "cell_type": "markdown",
   "metadata": {},
   "source": [
    "We then use Richardson extrapolation applied to the measured convergence rates (at finite resolution) to get the \"*actual*\" convergence rate and its accuracy:"
   ]
  },
  {
   "cell_type": "code",
   "execution_count": 15,
   "metadata": {
    "collapsed": false
   },
   "outputs": [
    {
     "name": "stdout",
     "output_type": "stream",
     "text": [
      "The convergence rate lies in the interval [0.9883297,1.011621]\n"
     ]
    }
   ],
   "source": [
    "s_exact = 2*s_m[0]-s_m[1]\n",
    "error_e = abs(s_exact - s_m[0])\n",
    "print(\"The convergence rate lies in the interval [{:.7g},{:.7g}]\".format(\n",
    "        s_exact-error_e, s_exact+error_e))"
   ]
  },
  {
   "cell_type": "markdown",
   "metadata": {},
   "source": [
    "We see that $\\sm{\\dt} \\simeq 1.023$ is *close enough* when $\\sm{\\dt/2} \\simeq 1.012$, as the interval is consistent with $s_e=1$."
   ]
  },
  {
   "cell_type": "markdown",
   "metadata": {},
   "source": [
    "## Finding the limits"
   ]
  },
  {
   "cell_type": "markdown",
   "metadata": {},
   "source": [
    "Once again, we want to know what the limiting values are. In this case we're interested in fixing $s_e$ and $\\sm{\\dt}$, and finding the value of $\\sm{\\dt/2}$ that is close enough.\n",
    "\n",
    "So the model we'll use is that $s_m = s_e + c_1 \\dt$, as above, so we need\n",
    "\n",
    "$$\n",
    "\\begin{equation}\n",
    "  2 \\sm{\\dt/2} - \\sm{\\dt} - | \\sm{\\dt/2} - \\sm{\\dt} | \\le s_e \\le 2 \\sm{\\dt/2} - \\sm{\\dt} + | \\sm{\\dt/2} - \\sm{\\dt} |.\n",
    "\\end{equation}\n",
    "$$\n",
    "\n",
    "In the case where $\\sm{\\dt/2} < \\sm{\\dt}$  this gives\n",
    "\n",
    "$$\n",
    "\\begin{equation}\n",
    "  3 \\sm{\\dt/2} - 2\\sm{\\dt} \\le s_e \\le \\sm{\\dt/2} \\quad \\implies \\quad \\sm{\\dt/2} \\le \\tfrac{1}{3} \\left( 2 \\sm{\\dt} + s_e \\right).\n",
    "\\end{equation}\n",
    "$$\n",
    "\n",
    "In the case where $\\sm{\\dt/2} > \\sm{\\dt}$  this gives\n",
    "\n",
    "$$\n",
    "\\begin{equation}\n",
    "  \\sm{\\dt/2} \\le s_e \\le 3 \\sm{\\dt/2} - 2 \\sm{\\dt} \\quad \\implies \\quad \\sm{\\dt/2} \\ge \\tfrac{1}{3} \\left( 2 \\sm{\\dt} + s_e \\right).\n",
    "\\end{equation}\n",
    "$$\n",
    "\n",
    "We can write this in terms of the *error* in the slope as\n",
    "\n",
    "$$\n",
    "\\begin{equation}\n",
    "  | \\sm{\\dt/2} - s_e | \\le \\frac{2}{3} | \\sm{\\dt} - s_e |;\n",
    "\\end{equation}\n",
    "$$\n",
    "\n",
    "that is, the error must go down by at least a factor of $2/3$ when the step size is cut in half.\n",
    "\n",
    "So, if we fix $s_e=1$ (as for Euler's method), we can see the *upper* bound on $\\sm{\\dt/2}$ given $s_m = 1.023$ is:"
   ]
  },
  {
   "cell_type": "code",
   "execution_count": 18,
   "metadata": {
    "collapsed": false
   },
   "outputs": [
    {
     "name": "stdout",
     "output_type": "stream",
     "text": [
      "Upper bound when s_e=1 and s_m (coarse resolution)=1.023: 1.0155107.\n"
     ]
    }
   ],
   "source": [
    "s_e = 1.0\n",
    "s_mdthalf_max = (2.0*s_m[1] + s_e)/3.0\n",
    "print(\"Upper bound when s_e=1 and s_m (coarse resolution)=1.023: {:.7f}.\".format(s_mdthalf_max))"
   ]
  },
  {
   "cell_type": "markdown",
   "metadata": {},
   "source": [
    "In general, for Euler's method, the bound varies linearly:"
   ]
  },
  {
   "cell_type": "code",
   "execution_count": 23,
   "metadata": {
    "collapsed": false
   },
   "outputs": [
    {
     "data": {
      "image/png": "[encoded data removed]",
      "text/plain": [
       "<matplotlib.figure.Figure at 0x1075b2160>"
      ]
     },
     "metadata": {},
     "output_type": "display_data"
    }
   ],
   "source": [
    "s_m_values = numpy.linspace(0.5, 1.5)\n",
    "bound = (2.0*s_m_values + 1.0)/3.0\n",
    "pyplot.figure(figsize=(8,6))\n",
    "pyplot.fill_between(s_m_values, numpy.ones_like(s_m_values), bound,\n",
    "                    facecolor='green', alpha=0.5)\n",
    "#pyplot.ylim(1.0, 2.5)\n",
    "pyplot.xlim(0.5, 1.5)\n",
    "pyplot.xlabel(r\"$s_m^{(\\Delta t)}$\")\n",
    "pyplot.ylabel(r\"$s_m^{(\\Delta t / 2)}$\");"
   ]
  },
  {
   "cell_type": "markdown",
   "metadata": {},
   "source": [
    "## Summary"
   ]
  },
  {
   "cell_type": "markdown",
   "metadata": {},
   "source": [
    "If we want the algorithm to behave in the way expected of Euler's method, then measuring a single convergence rate is useful but not sufficient. Instead we must measure the convergence rate twice, once with base timestep $\\dt$ and once with base timestep $\\dt/2$. The difference between the measured slope $\\sm{\\dt}$ and the expected slope $s_e=1$ must go down by at least $2/3$ when the timestep is reduced to $\\dt/2$."
   ]
  }
 ],
 "metadata": {
  "kernelspec": {
   "display_name": "Python 3",
   "language": "python",
   "name": "python3"
  },
  "language_info": {
   "codemirror_mode": {
    "name": "ipython",
    "version": 3
   },
   "file_extension": ".py",
   "mimetype": "text/x-python",
   "name": "python",
   "nbconvert_exporter": "python",
   "pygments_lexer": "ipython3",
   "version": "3.4.2"
  }
 },
 "nbformat": 4,
 "nbformat_minor": 0
}
