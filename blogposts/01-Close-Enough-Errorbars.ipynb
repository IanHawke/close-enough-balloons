{
 "metadata": {
  "kernelspec": {
   "display_name": "Python 3",
   "language": "python",
   "name": "python3"
  },
  "language_info": {
   "codemirror_mode": {
    "name": "ipython",
    "version": 3
   },
   "file_extension": ".py",
   "mimetype": "text/x-python",
   "name": "python",
   "nbconvert_exporter": "python",
   "pygments_lexer": "ipython3",
   "version": "3.4.2"
  },
  "name": "",
  "signature": "sha256:447faf4dda91c9e17acd7d2066d62f7a06350bdbbd962dfeef81b6ace71c4e9a"
 },
 "nbformat": 3,
 "nbformat_minor": 0,
 "worksheets": [
  {
   "cells": [
    {
     "cell_type": "markdown",
     "metadata": {},
     "source": [
      "$$\n",
      "\\newcommand{\\dt}{\\Delta t}\n",
      "\\newcommand{\\udt}[1]{u^{({#1})}(T)}\n",
      "\\newcommand{\\Edt}[1]{E^{({#1})}}\n",
      "$$"
     ]
    },
    {
     "cell_type": "markdown",
     "metadata": {},
     "source": [
      "This is the first in a series of posts on testing scientific software. For this to make sense, you'll need to have skimmed [the motivation and background](http://ianhawke.github.io/blog/close-enough.html)."
     ]
    },
    {
     "cell_type": "markdown",
     "metadata": {},
     "source": [
      "We're starting from Euler's method, which is first order. That means that the difference between the exact solution $u(T)$ and the numerical approximation $\\udt{\\dt}$ should be proportional to $\\dt$: that is, \n",
      "\n",
      "$$\n",
      "\\begin{equation}\n",
      "  u(T) - \\udt{\\dt} = c_1 \\dt + {\\cal O}(\\dt^2) \\simeq c_1 \\dt^{s_e}\n",
      "\\end{equation}\n",
      "$$\n",
      "\n",
      "with $s_e=1$. By performing some simulations, we can measure (to some accuracy) the slope $s_m$. The problem is that the measured slope $s_m$ will be \"contaminated\" by the higher order terms, proportional to $\\dt^2$ and higher powers of $\\dt$. For sufficiently small $\\dt$ the measured value $s_m$ will be indistinguishable from the expected value $s_e=1$. However, we rarely get to use a sufficiently small $\\dt$. So how close does $s_m$ need to be to $s_e$ to be close enough?\n",
      "\n",
      "One argument that can be justified: $0.585 \\lesssim s_m \\lesssim 1.585$ is close enough when $s_e = 1$."
     ]
    },
    {
     "cell_type": "heading",
     "level": 2,
     "metadata": {},
     "source": [
      "Error bars and Richardson extrapolation"
     ]
    },
    {
     "cell_type": "markdown",
     "metadata": {},
     "source": [
      "The argument starts by assuming that what we care about is not the algorithm, but the solution $u(T)$. From the solution of *any* numerical algorithm we cannot compute $u(T)$ exactly, but only estimate it with some error. Given a set of numerical calculations - $\\udt{\\dt}, \\udt{2\\dt}$ for example - and a model of how the algorithm behaves, then both the exact solution *and* the error bars can be estimated. \n",
      "\n",
      "**Claim**: if two models estimate exact solutions that lie within each other's error bars, they are indistinguishable. Hence, if the model corresponding to the *measured* slope is consistent with that of the *expected* slope, the algorithm implemented is close enough."
     ]
    },
    {
     "cell_type": "markdown",
     "metadata": {},
     "source": [
      "To make this concrete, we need a model of the algorithm. The simplest models are\n",
      "\n",
      "$$\n",
      "\\begin{align}\n",
      "  u(T) - \\udt{\\dt} & = c_e \\dt^{s_e}, \\\\\n",
      "  u(T) - \\udt{\\dt} & = c_m \\dt^{s_m}.\n",
      "\\end{align}\n",
      "$$\n",
      "\n",
      "Using [Richardson extrapolation](http://en.wikipedia.org/wiki/Richardson_extrapolation) we can estimate both the solution $u(T)$ and also the error $\\Edt{\\dt} = u(T) - \\udt{\\dt}$. For Richardson extrapolation we perform two numerical calculations $\\udt{\\dt}$ and $\\udt{2\\dt}$ and combine them as\n",
      "\n",
      "$$\n",
      "\\begin{align}\n",
      "  \\udt{e} & = \\frac{2^{s_e} \\udt{\\dt} - \\udt{2\\dt}}{2^{s_e} - 1}, & \\Edt{e, \\dt} & = \\frac{\\udt{\\dt} - \\udt{2\\dt}}{2^{s_e} - 1}, \\\\\n",
      "  \\udt{m} & = \\frac{2^{s_m} \\udt{\\dt} - \\udt{2\\dt}}{2^{s_m} - 1}, & \\Edt{m, \\dt} & = \\frac{\\udt{\\dt} - \\udt{2\\dt}}{2^{s_m} - 1}.\n",
      "\\end{align}\n",
      "$$"
     ]
    },
    {
     "cell_type": "markdown",
     "metadata": {},
     "source": [
      "The models are consistent if\n",
      "\n",
      "$$\n",
      "\\begin{equation}\n",
      "  \\udt{e} \\in \\udt{m} \\pm \\Edt{m, \\dt} \\quad \\text{and} \\quad \\udt{m} \\in \\udt{e} \\pm \\Edt{e, \\dt}.\n",
      "\\end{equation}\n",
      "$$\n",
      "\n",
      "That is, if both models predict the same exact solution, within their own error bounds, then we can't tell the difference between them, and they're close enough."
     ]
    },
    {
     "cell_type": "heading",
     "level": 2,
     "metadata": {},
     "source": [
      "Checking the MOOC solution"
     ]
    },
    {
     "cell_type": "markdown",
     "metadata": {},
     "source": [
      "We can use this criteria to check the result from [the full phugoid model notebook](http://nbviewer.ipython.org/github/numerical-mooc/numerical-mooc/blob/master/lessons/01_phugoid/01_03_PhugoidFullModel.ipynb).\n",
      "\n",
      "Let's take the code from there directly."
     ]
    },
    {
     "cell_type": "code",
     "collapsed": true,
     "input": [
      "from math import sin, cos, log, ceil\n",
      "import numpy\n",
      "from matplotlib import pyplot\n",
      "%matplotlib inline\n",
      "from matplotlib import rcParams\n",
      "rcParams['font.family'] = 'serif'\n",
      "rcParams['font.size'] = 16"
     ],
     "language": "python",
     "metadata": {},
     "outputs": [],
     "prompt_number": 1
    },
    {
     "cell_type": "code",
     "collapsed": true,
     "input": [
      "# model parameters:\n",
      "g = 9.8      # gravity in m s^{-2}\n",
      "v_t = 30.0   # trim velocity in m s^{-1}   \n",
      "C_D = 1/40.  # drag coefficient --- or D/L if C_L=1\n",
      "C_L = 1.0    # for convenience, use C_L = 1\n",
      "\n",
      "### set initial conditions ###\n",
      "v0 = v_t     # start at the trim velocity (or add a delta)\n",
      "theta0 = 0.0 # initial angle of trajectory\n",
      "x0 = 0.0     # horizotal position is arbitrary\n",
      "y0 = 1000.0  # initial altitude"
     ],
     "language": "python",
     "metadata": {},
     "outputs": [],
     "prompt_number": 2
    },
    {
     "cell_type": "code",
     "collapsed": true,
     "input": [
      "def f(u):\n",
      "    \"\"\"Returns the right-hand side of the phugoid system of equations.\n",
      "    \n",
      "    Parameters\n",
      "    ----------\n",
      "    u : array of float\n",
      "        array containing the solution at time n.\n",
      "        \n",
      "    Returns\n",
      "    -------\n",
      "    dudt : array of float\n",
      "        array containing the RHS given u.\n",
      "    \"\"\"\n",
      "    \n",
      "    v = u[0]\n",
      "    theta = u[1]\n",
      "    x = u[2]\n",
      "    y = u[3]\n",
      "    return numpy.array([-g*sin(theta) - C_D/C_L*g/v_t**2*v**2,\n",
      "                      -g*cos(theta)/v + g/v_t**2*v,\n",
      "                      v*cos(theta),\n",
      "                      v*sin(theta)])"
     ],
     "language": "python",
     "metadata": {},
     "outputs": [],
     "prompt_number": 3
    },
    {
     "cell_type": "code",
     "collapsed": true,
     "input": [
      "def euler_step(u, f, dt):\n",
      "    \"\"\"Returns the solution at the next time-step using Euler's method.\n",
      "    \n",
      "    Parameters\n",
      "    ----------\n",
      "    u : array of float\n",
      "        solution at the previous time-step.\n",
      "    f : function\n",
      "        function to compute the right hand-side of the system of equation.\n",
      "    dt : float\n",
      "        time-increment.\n",
      "    \n",
      "    Returns\n",
      "    -------\n",
      "    u_n_plus_1 : array of float\n",
      "        approximate solution at the next time step.\n",
      "    \"\"\"\n",
      "    \n",
      "    return u + dt * f(u)"
     ],
     "language": "python",
     "metadata": {},
     "outputs": [],
     "prompt_number": 4
    },
    {
     "cell_type": "markdown",
     "metadata": {},
     "source": [
      "Now we're going to compute the result at a specific time and do the convergence test. We'll use an end time of `T=100` as in the original notebook, and convergence test on `v` as an example."
     ]
    },
    {
     "cell_type": "code",
     "collapsed": false,
     "input": [
      "T = 100.0\n",
      "dt_values = numpy.array([0.001*2**i for i in range(3)])\n",
      "v_values = numpy.zeros_like(dt_values)\n",
      "for i, dt in enumerate(dt_values):\n",
      "    N = int(T/dt)+1\n",
      "    t = numpy.linspace(0.0, T, N)\n",
      "    u = numpy.empty((N, 4))\n",
      "    u[0] = numpy.array([v0, theta0, x0, y0])\n",
      "    for n in range(N-1):\n",
      "        u[n+1] = euler_step(u[n], f, dt)\n",
      "    v_values[i] = u[-1,0]"
     ],
     "language": "python",
     "metadata": {},
     "outputs": [],
     "prompt_number": 5
    },
    {
     "cell_type": "markdown",
     "metadata": {},
     "source": [
      "We now have three calculated values of `v` using parameter values `dt=0.001, 0.002, 0.004`. That is:"
     ]
    },
    {
     "cell_type": "code",
     "collapsed": false,
     "input": [
      "for i, dt in enumerate(dt_values):\n",
      "    print(\"Value of v({}) = {:.7g} when dt={}.\".format(T, v_values[i], dt))"
     ],
     "language": "python",
     "metadata": {},
     "outputs": [
      {
       "output_type": "stream",
       "stream": "stdout",
       "text": [
        "Value of v(100.0) = 29.86798 when dt=0.001.\n",
        "Value of v(100.0) = 29.86667 when dt=0.002.\n",
        "Value of v(100.0) = 29.864 when dt=0.004.\n"
       ]
      }
     ],
     "prompt_number": 6
    },
    {
     "cell_type": "markdown",
     "metadata": {},
     "source": [
      "As in the original notebook, we can measure the order of convergence using\n",
      "\n",
      "$$\n",
      "\\begin{equation}\n",
      "  s_m = \\log_2 \\left| \\frac{\\udt{4\\dt} - \\udt{2\\dt}}{\\udt{2\\dt} - \\udt{\\dt}} \\right|.\n",
      "\\end{equation}\n",
      "$$"
     ]
    },
    {
     "cell_type": "code",
     "collapsed": false,
     "input": [
      "s_m = log(abs((v_values[2]-v_values[1])/(v_values[1]-v_values[0]))) / log(2.0)\n",
      "print(\"Measured convergence rate is {:.4g}.\".format(s_m))"
     ],
     "language": "python",
     "metadata": {},
     "outputs": [
      {
       "output_type": "stream",
       "stream": "stdout",
       "text": [
        "Measured convergence rate is 1.023.\n"
       ]
      }
     ],
     "prompt_number": 7
    },
    {
     "cell_type": "markdown",
     "metadata": {},
     "source": [
      "As in the original notebook, this is close to one, but not exactly one. So we now use the two most accurate data points with our two models, with *expected* convergence rate $s_e = 1$ and *measured* convergence rate $s_m \\simeq 1.023$. We compute our exact solutions and error intervals."
     ]
    },
    {
     "cell_type": "code",
     "collapsed": true,
     "input": [
      "v_exact_e = (2.0*v_values[0] - v_values[1])\n",
      "v_exact_m = (2.0**s_m*v_values[0] - v_values[1]) / (2.0**s_m - 1.0)\n",
      "error_e = abs(v_exact_e - v_values[0])\n",
      "error_m = abs(v_exact_m - v_values[0])"
     ],
     "language": "python",
     "metadata": {},
     "outputs": [],
     "prompt_number": 8
    },
    {
     "cell_type": "markdown",
     "metadata": {},
     "source": [
      "Then we check if they are consistent:"
     ]
    },
    {
     "cell_type": "code",
     "collapsed": false,
     "input": [
      "print(\"Does the expected solution {:.7g} lie within the interval \"\n",
      "      \"[{:.7g}, {:.7g}]\\nfrom the measured model? {}\".format(\n",
      "        v_exact_e, v_exact_m-error_m, v_exact_m+error_m, \n",
      "        v_exact_m-error_m <= v_exact_e <= v_exact_m+error_m))\n",
      "print(\"Does the measured solution {:.7g} lie within the interval \"\n",
      "      \"[{:.7g}, {:.7g}]\\nfrom the exact model? {}\".format(\n",
      "        v_exact_m, v_exact_e-error_e, v_exact_e+error_e, \n",
      "        v_exact_e-error_e <= v_exact_m <= v_exact_e+error_e))"
     ],
     "language": "python",
     "metadata": {},
     "outputs": [
      {
       "output_type": "stream",
       "stream": "stdout",
       "text": [
        "Does the expected solution 29.8693 lie within the interval [29.86798, 29.87053]\n",
        "from the measured model? True\n",
        "Does the measured solution 29.86925 lie within the interval [29.86798, 29.87061]\n",
        "from the exact model? True\n"
       ]
      }
     ],
     "prompt_number": 9
    },
    {
     "cell_type": "markdown",
     "metadata": {},
     "source": [
      "So the two models are indistinguishable: $s_m \\simeq 1.023$ is *close enough*."
     ]
    },
    {
     "cell_type": "heading",
     "level": 2,
     "metadata": {},
     "source": [
      "Finding the limits"
     ]
    },
    {
     "cell_type": "markdown",
     "metadata": {},
     "source": [
      "So, how different can $s_m$ be from one and still be close enough? First, let's do this experimentally, by plotting the intervals as we vary $s_m$:"
     ]
    },
    {
     "cell_type": "code",
     "collapsed": false,
     "input": [
      "s_m_values = numpy.linspace(0.4, 2.0)\n",
      "v_exact_m = numpy.zeros_like(s_m_values)\n",
      "interval_lower = numpy.zeros_like(s_m_values)\n",
      "interval_upper = numpy.zeros_like(s_m_values)\n",
      "for i, s_m in enumerate(s_m_values):\n",
      "    v_exact_m[i] = (2.0**s_m*v_values[0] - v_values[1]) / (2.0**s_m - 1.0)\n",
      "    error_m = abs(v_exact_m[i] - v_values[0])\n",
      "    interval_lower[i] = v_exact_m[i]-error_m\n",
      "    interval_upper[i] = v_exact_m[i]+error_m\n",
      "pyplot.figure(figsize=(8,6))\n",
      "pyplot.plot(s_m_values, v_exact_e*numpy.ones_like(s_m_values), 'g-', linewidth=2, \n",
      "            label='Exact model')\n",
      "pyplot.plot(s_m_values, v_exact_m, 'r-', linewidth=2, label='Measured model')\n",
      "pyplot.fill_between(s_m_values, v_exact_e-error_e, v_exact_e+error_e, facecolor='green', \n",
      "                    alpha=0.5, edgecolor='None', label='Exact model interval')\n",
      "pyplot.fill_between(s_m_values, interval_lower, interval_upper, facecolor='red', \n",
      "                    alpha=0.5, edgecolor='None', label='Measured model interval')\n",
      "pyplot.legend()\n",
      "pyplot.xlabel(r\"$s_m$\");"
     ],
     "language": "python",
     "metadata": {},
     "outputs": [
      {
       "metadata": {},
       "output_type": "display_data",
       "png": "[encoded data removed]",
       "text": [
        "<matplotlib.figure.Figure at 0x106227110>"
       ]
      }
     ],
     "prompt_number": 10
    },
    {
     "cell_type": "markdown",
     "metadata": {},
     "source": [
      "We see a few things. Firstly the lower limit is identical for both models for all $s_m$. This shouldn't be surprising: one of the edges of the interval will always be $\\udt{\\dt}$, from the definitions of the error and the interval.\n",
      "\n",
      "Second, we see that for small enough $s_m$ the predicted solution for the measured model falls outside the interval for the exact model: this occurs when $s_m \\simeq 0.6$. For large enough $s_m$, the predicted solution for the exact model falls outside the interval for the measured model: this occurs when $s_m \\simeq 1.6$. \n",
      "\n",
      "This gives a very wide range of values for $s_m$ that are \"close enough\". Also, it's specific to this data. However, we can do a general calculation."
     ]
    },
    {
     "cell_type": "heading",
     "level": 2,
     "metadata": {},
     "source": [
      "The general interval"
     ]
    },
    {
     "cell_type": "markdown",
     "metadata": {},
     "source": [
      "We have a definition for our two models, defining two intervals and the solutions that should fall within them. We can do a symbolic calculation to check when this happens. First, we write out the inequalities that need to be satisfied:\n",
      "\n",
      "$$\n",
      "\\begin{equation}\n",
      "\\left| \\frac{2^{s_e} y^{(h)} - y^{(2h)}}{2^{s_e} - 1} - \\frac{2^{s_m} y^{(h)} - y^{(2h)}}{2^{s_m} - 1} \\right| \\le \\left| \\frac{y^{(2h)} - y^{(h)}}{2^{s_e} - 1} \\right|\n",
      "\\end{equation}\n",
      "$$\n",
      "\n",
      "and\n",
      "\n",
      "$$\n",
      "\\begin{equation}\n",
      "\\left| \\frac{2^{s_e} y^{(h)} - y^{(2h)}}{2^{s_e} - 1} - \\frac{2^{s_m} y^{(h)} - y^{(2h)}}{2^{s_m} - 1} \\right| \\le \\left| \\frac{y^{(2h)} - y^{(h)}}{2^{s_m} - 1} \\right| .\n",
      "\\end{equation}\n",
      "$$\n",
      "\n",
      "Noting as above that only two need solving (as one edge of the inequality will always agree), we can solve:"
     ]
    },
    {
     "cell_type": "code",
     "collapsed": false,
     "input": [
      "import sympy\n",
      "sympy.init_printing()\n",
      "yh, y2h, se, sm = sympy.symbols('y^h, y^{2h}, s_e, s_m')\n",
      "Eq1 = sympy.Eq((2**sm*yh-y2h)/(2**sm-1)-(2**se*yh-y2h)/(2**se-1) , (y2h-yh)/(2**sm-1))\n",
      "sympy.solve(Eq1, sm)"
     ],
     "language": "python",
     "metadata": {},
     "outputs": [
      {
       "latex": [
        "$$\\left [ \\frac{\\log{\\left (2^{s_{e} + 1} - 1 \\right )}}{\\log{\\left (2 \\right )}}\\right ]$$"
       ],
       "metadata": {},
       "output_type": "pyout",
       "png": "[encoded data removed]",
       "prompt_number": 11,
       "text": [
        "\u23a1   \u239b s\u2091 + 1    \u239e\u23a4\n",
        "\u23a2log\u239d2       - 1\u23a0\u23a5\n",
        "\u23a2\u2500\u2500\u2500\u2500\u2500\u2500\u2500\u2500\u2500\u2500\u2500\u2500\u2500\u2500\u2500\u2500\u23a5\n",
        "\u23a3     log(2)     \u23a6"
       ]
      }
     ],
     "prompt_number": 11
    },
    {
     "cell_type": "code",
     "collapsed": false,
     "input": [
      "Eq2 = sympy.Eq((2**sm*yh-y2h)/(2**sm-1)-(2**se*yh-y2h)/(2**se-1) , -(y2h-yh)/(2**se-1))\n",
      "sympy.solve(Eq2, sm)"
     ],
     "language": "python",
     "metadata": {},
     "outputs": [
      {
       "latex": [
        "$$\\left [ \\frac{\\log{\\left (\\frac{2^{s_{e}}}{2} + \\frac{1}{2} \\right )}}{\\log{\\left (2 \\right )}}\\right ]$$"
       ],
       "metadata": {},
       "output_type": "pyout",
       "png": "[encoded data removed]",
       "prompt_number": 12,
       "text": [
        "\u23a1   \u239b s\u2091    \u239e\u23a4\n",
        "\u23a2   \u239c2     1\u239f\u23a5\n",
        "\u23a2log\u239c\u2500\u2500\u2500 + \u2500\u239f\u23a5\n",
        "\u23a2   \u239d 2    2\u23a0\u23a5\n",
        "\u23a2\u2500\u2500\u2500\u2500\u2500\u2500\u2500\u2500\u2500\u2500\u2500\u2500\u23a5\n",
        "\u23a3   log(2)   \u23a6"
       ]
      }
     ],
     "prompt_number": 12
    },
    {
     "cell_type": "markdown",
     "metadata": {},
     "source": [
      "So, for Euler's method where $s_e=1$ we find the interval must be:"
     ]
    },
    {
     "cell_type": "code",
     "collapsed": false,
     "input": [
      "print(\"Acceptable interval is [{:.6g}, {:.6g}].\".format(log(1.0+0.5)/log(2.0), \n",
      "                                                        log(2.0**2-1.0)/log(2.0)))"
     ],
     "language": "python",
     "metadata": {},
     "outputs": [
      {
       "output_type": "stream",
       "stream": "stdout",
       "text": [
        "Acceptable interval is [0.584963, 1.58496].\n"
       ]
      }
     ],
     "prompt_number": 13
    },
    {
     "cell_type": "markdown",
     "metadata": {},
     "source": [
      "This matches well with the results above, and is completely independent of the data, and indeed the method: the only thing that matters is the expected convergence rate $s_e=1$. As we vary the expected convergence rate, the acceptable *measured* convergence rate also varies, and in fact the acceptable interval around $s_e$ gets larger:"
     ]
    },
    {
     "cell_type": "code",
     "collapsed": false,
     "input": [
      "s_e = numpy.arange(1,10)\n",
      "upper_limit = numpy.log(2.0**(s_e+1)-1.0)/numpy.log(2.0)\n",
      "lower_limit = numpy.log(2.0**(s_e-1)+0.5)/numpy.log(2.0)\n",
      "pyplot.figure(figsize=(8,6))\n",
      "pyplot.fill_between(s_e, lower_limit-s_e, upper_limit-s_e, facecolor='green', alpha=0.5)\n",
      "pyplot.xlabel(r'$s_e$')\n",
      "pyplot.ylabel(r\"Acceptable $s_m-s_e$\")\n",
      "pyplot.ylim(-1.5, 1.5);"
     ],
     "language": "python",
     "metadata": {},
     "outputs": [
      {
       "metadata": {},
       "output_type": "display_data",
       "png": "[encoded data removed]",
       "text": [
        "<matplotlib.figure.Figure at 0x106b32d10>"
       ]
      }
     ],
     "prompt_number": 14
    },
    {
     "cell_type": "heading",
     "level": 2,
     "metadata": {},
     "source": [
      "Summary"
     ]
    },
    {
     "cell_type": "markdown",
     "metadata": {},
     "source": [
      "If all you care about is the answer that the algorithm gives you, then the measured convergence rate doesn't matter very much. Use Richardson extrapolation to estimate the exact solution, given multiple numerical solutions, and check that the estimated error is in a range that you're comfortable with."
     ]
    },
    {
     "cell_type": "heading",
     "level": 4,
     "metadata": {},
     "source": [
      "More reading"
     ]
    },
    {
     "cell_type": "markdown",
     "metadata": {},
     "source": [
      "See also [this page from NASA on grid convergence](http://www.grc.nasa.gov/WWW/wind/valid/tutorial/spatconv.html). Also [this paper by Liu](http://ocw.mit.edu/courses/mathematics/18-304-undergraduate-seminar-in-discrete-mathematics-spring-2006/projects/xtrpltn_liu_xpnd.pdf), which is rather mathematical, on Richardson extrapolation and its extensions."
     ]
    }
   ],
   "metadata": {}
  }
 ]
}