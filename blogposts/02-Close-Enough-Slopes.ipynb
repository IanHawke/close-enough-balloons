{
 "metadata": {
  "kernelspec": {
   "display_name": "Python 3",
   "language": "python",
   "name": "python3"
  },
  "language_info": {
   "codemirror_mode": {
    "name": "ipython",
    "version": 3
   },
   "file_extension": ".py",
   "mimetype": "text/x-python",
   "name": "python",
   "nbconvert_exporter": "python",
   "pygments_lexer": "ipython3",
   "version": "3.4.2"
  },
  "name": "",
  "signature": "sha256:10c1ef3e79ea5d3f4f28ef6e76d61eff6c2a779630c231b07aeb3344858db7f7"
 },
 "nbformat": 3,
 "nbformat_minor": 0,
 "worksheets": [
  {
   "cells": [
    {
     "cell_type": "markdown",
     "metadata": {},
     "source": [
      "This is the second in a series of posts on testing scientific software. For this to make sense, you'll need to have skimmed [the motivation and background](http://ianhawke.github.io/blog/close-enough.html). The [first in the series](http://ianhawke.github.io/blog/close-enough-part-1.html) assumed we only cared about the answer, and whether we'd implemented the expected algorithm wasn't important."
     ]
    },
    {
     "cell_type": "markdown",
     "metadata": {},
     "source": [
      "$$\n",
      "\\newcommand{\\dt}{\\Delta t}\n",
      "\\newcommand{\\udt}[1]{u^{({#1})}(T)}\n",
      "\\newcommand{\\sm}[1]{s_m^{({#1})}}\n",
      "$$\n",
      "Let's suppose that instead of caring about the answer $u$ we care about the algorithm behaving in the right fashion, $\\udt{\\dt} = u(T) + c_1 \\dt^{s_e}$."
     ]
    },
    {
     "cell_type": "markdown",
     "metadata": {},
     "source": [
      "Given three pieces of data we can measure the slope:\n",
      "\n",
      "$$\n",
      "\\begin{align}\n",
      "  s_m & = \\log_2 \\left| \\frac{\\udt{4\\dt}-\\udt{2\\dt}}{\\udt{2\\dt}-\\udt{\\dt}} \\right| \\\\ \n",
      "  & = \\log_2 \\left| \\frac{u(T) + c_1 4^{s_e} \\dt^{s_e} - u(T) + c_1 2^{s_e} \\dt^{s_e} + {\\cal O}(\\dt^{s_e+1})}{u(T) + c_1 2^{s_e} \\dt^{s_e} - u(T) + c_1 \\dt^{s_e} + {\\cal O}(\\dt^{s_e+1)}} \\right| \\\\\n",
      "  & = \\log_2 \\left| 2^{s_e} + {\\cal O}(\\dt) \\right| \\\\\n",
      "  & = s_e + {\\cal O}(\\dt).\n",
      "\\end{align}\n",
      "$$"
     ]
    },
    {
     "cell_type": "markdown",
     "metadata": {},
     "source": [
      "In the [first post in the series](http://ianhawke.github.io/blog/close-enough-part-1.html) we applied Richardson extrapolation to the solution, getting an extrapolated answer and an interval within which we expected the true solution to lie. Now we can apply the same Richardson extrapolation tricks to our measured slope. If the measured slope is denoted $\\sm{\\dt}$ then we can use Richardson extrapolation as before to compute\n",
      "\n",
      "$$\n",
      "\\begin{align}\n",
      "  s_R &= 2\\sm{\\dt} - \\sm{2\\dt}, \\\\ E_R & = s_R - \\sm{\\dt}.\n",
      "\\end{align}\n",
      "$$\n",
      "\n",
      "We then state that our algorithm is *close enough* to correct if $s_e$ lies in the interval $s_R \\pm E_R$."
     ]
    },
    {
     "cell_type": "code",
     "collapsed": false,
     "input": [
      "from math import sin, cos, log, ceil\n",
      "import numpy\n",
      "from matplotlib import pyplot\n",
      "%matplotlib inline\n",
      "from matplotlib import rcParams\n",
      "rcParams['font.family'] = 'serif'\n",
      "rcParams['font.size'] = 16"
     ],
     "language": "python",
     "metadata": {},
     "outputs": [],
     "prompt_number": 1
    },
    {
     "cell_type": "markdown",
     "metadata": {},
     "source": [
      "We first need the code implementing Euler's method [the full phugoid model notebook](http://nbviewer.ipython.org/github/numerical-mooc/numerical-mooc/blob/master/lessons/01_phugoid/01_03_PhugoidFullModel.ipynb)."
     ]
    },
    {
     "cell_type": "code",
     "collapsed": true,
     "input": [
      "# model parameters:\n",
      "g = 9.8      # gravity in m s^{-2}\n",
      "v_t = 30.0   # trim velocity in m s^{-1}   \n",
      "C_D = 1/40.  # drag coefficient --- or D/L if C_L=1\n",
      "C_L = 1.0    # for convenience, use C_L = 1\n",
      "\n",
      "### set initial conditions ###\n",
      "v0 = v_t     # start at the trim velocity (or add a delta)\n",
      "theta0 = 0.0 # initial angle of trajectory\n",
      "x0 = 0.0     # horizotal position is arbitrary\n",
      "y0 = 1000.0  # initial altitude"
     ],
     "language": "python",
     "metadata": {},
     "outputs": [],
     "prompt_number": 2
    },
    {
     "cell_type": "code",
     "collapsed": true,
     "input": [
      "def f(u):\n",
      "    \"\"\"Returns the right-hand side of the phugoid system of equations.\n",
      "    \n",
      "    Parameters\n",
      "    ----------\n",
      "    u : array of float\n",
      "        array containing the solution at time n.\n",
      "        \n",
      "    Returns\n",
      "    -------\n",
      "    dudt : array of float\n",
      "        array containing the RHS given u.\n",
      "    \"\"\"\n",
      "    \n",
      "    v = u[0]\n",
      "    theta = u[1]\n",
      "    x = u[2]\n",
      "    y = u[3]\n",
      "    return numpy.array([-g*sin(theta) - C_D/C_L*g/v_t**2*v**2,\n",
      "                      -g*cos(theta)/v + g/v_t**2*v,\n",
      "                      v*cos(theta),\n",
      "                      v*sin(theta)])"
     ],
     "language": "python",
     "metadata": {},
     "outputs": [],
     "prompt_number": 3
    },
    {
     "cell_type": "code",
     "collapsed": true,
     "input": [
      "def euler_step(u, f, dt):\n",
      "    \"\"\"Returns the solution at the next time-step using Euler's method.\n",
      "    \n",
      "    Parameters\n",
      "    ----------\n",
      "    u : array of float\n",
      "        solution at the previous time-step.\n",
      "    f : function\n",
      "        function to compute the right hand-side of the system of equation.\n",
      "    dt : float\n",
      "        time-increment.\n",
      "    \n",
      "    Returns\n",
      "    -------\n",
      "    u_n_plus_1 : array of float\n",
      "        approximate solution at the next time step.\n",
      "    \"\"\"\n",
      "    \n",
      "    return u + dt * f(u)"
     ],
     "language": "python",
     "metadata": {},
     "outputs": [],
     "prompt_number": 4
    },
    {
     "cell_type": "markdown",
     "metadata": {},
     "source": [
      "We then construct a sequence of solutions in order to perform Richardson extrapolation, exactly as in the [first post](http://ianhawke.github.io/blog/close-enough-part-1.html). Here we need four, rather than three, solutions, so that we can compute the slope at two different resolutions."
     ]
    },
    {
     "cell_type": "code",
     "collapsed": true,
     "input": [
      "T = 100.0\n",
      "dt_values = numpy.array([0.001*2**i for i in range(-1,3)])\n",
      "v_values = numpy.zeros_like(dt_values)\n",
      "for i, dt in enumerate(dt_values):\n",
      "    N = int(T/dt)+1\n",
      "    t = numpy.linspace(0.0, T, N)\n",
      "    u = numpy.empty((N, 4))\n",
      "    u[0] = numpy.array([v0, theta0, x0, y0])\n",
      "    for n in range(N-1):\n",
      "        u[n+1] = euler_step(u[n], f, dt)\n",
      "    v_values[i] = u[-1,0]"
     ],
     "language": "python",
     "metadata": {},
     "outputs": [],
     "prompt_number": 5
    },
    {
     "cell_type": "markdown",
     "metadata": {},
     "source": [
      "We can now measure the convergence rate slope twice:"
     ]
    },
    {
     "cell_type": "code",
     "collapsed": false,
     "input": [
      "s_m = numpy.zeros(2)\n",
      "for i in range(2):\n",
      "    s_m[i] = log(abs((v_values[2+i]-v_values[1+i])/(v_values[1+i]-v_values[0+i]))) / log(2.0)\n",
      "    print(\"Measured convergence rate (base dt {}) is {:.7g}.\".format(dt_values[i], s_m[i]))"
     ],
     "language": "python",
     "metadata": {},
     "outputs": [
      {
       "output_type": "stream",
       "stream": "stdout",
       "text": [
        "Measured convergence rate (base dt 0.0005) is 1.011621.\n",
        "Measured convergence rate (base dt 0.001) is 1.023266.\n"
       ]
      }
     ],
     "prompt_number": 6
    },
    {
     "cell_type": "markdown",
     "metadata": {},
     "source": [
      "We then use Richardson extrapolation applied to the measured convergence rates (at finite resolution) to get the \"*actual*\" convergence rate and its accuracy:"
     ]
    },
    {
     "cell_type": "code",
     "collapsed": false,
     "input": [
      "s_exact = 2*s_m[0]-s_m[1]\n",
      "error_e = abs(s_exact - s_m[0])\n",
      "print(\"The convergence rate lies in the interval [{:.7g},{:.7g}]\".format(\n",
      "        s_exact-error_e, s_exact+error_e))"
     ],
     "language": "python",
     "metadata": {},
     "outputs": [
      {
       "output_type": "stream",
       "stream": "stdout",
       "text": [
        "The convergence rate lies in the interval [0.9883297,1.011621]\n"
       ]
      }
     ],
     "prompt_number": 7
    },
    {
     "cell_type": "markdown",
     "metadata": {},
     "source": [
      "We see that $\\sm{\\dt} \\simeq 1.023$ is *close enough* when $\\sm{\\dt/2} \\simeq 1.012$, as the interval is consistent with $s_e=1$."
     ]
    },
    {
     "cell_type": "heading",
     "level": 2,
     "metadata": {},
     "source": [
      "Finding the limits"
     ]
    },
    {
     "cell_type": "markdown",
     "metadata": {},
     "source": [
      "Once again, we want to know what the limiting values are. In this case we're interested in fixing $s_e$ and $\\sm{\\dt}$, and finding the value of $\\sm{\\dt/2}$ that is close enough.\n",
      "\n",
      "So the model we'll use is that $s_m = s_e + c_1 \\dt$, as above, so we need\n",
      "\n",
      "$$\n",
      "\\begin{equation}\n",
      "  2 \\sm{\\dt/2} - \\sm{\\dt} - | \\sm{\\dt/2} - \\sm{\\dt} | \\le s_e \\le 2 \\sm{\\dt/2} - \\sm{\\dt} + | \\sm{\\dt/2} - \\sm{\\dt} |.\n",
      "\\end{equation}\n",
      "$$\n",
      "\n",
      "In the case where $\\sm{\\dt/2} < \\sm{\\dt}$  this gives\n",
      "\n",
      "$$\n",
      "\\begin{equation}\n",
      "  3 \\sm{\\dt/2} - 2\\sm{\\dt} \\le s_e \\le \\sm{\\dt/2} \\quad \\implies \\quad \\sm{\\dt/2} \\le \\tfrac{1}{3} \\left( 2 \\sm{\\dt} + s_e \\right).\n",
      "\\end{equation}\n",
      "$$\n",
      "\n",
      "In the case where $\\sm{\\dt/2} > \\sm{\\dt}$  this gives\n",
      "\n",
      "$$\n",
      "\\begin{equation}\n",
      "  \\sm{\\dt/2} \\le s_e \\le 3 \\sm{\\dt/2} - 2 \\sm{\\dt} \\quad \\implies \\quad \\sm{\\dt/2} \\ge \\tfrac{1}{3} \\left( 2 \\sm{\\dt} + s_e \\right).\n",
      "\\end{equation}\n",
      "$$\n",
      "\n",
      "We can write this in terms of the *error* in the slope as\n",
      "\n",
      "$$\n",
      "\\begin{equation}\n",
      "  | \\sm{\\dt/2} - s_e | \\le \\frac{2}{3} | \\sm{\\dt} - s_e |;\n",
      "\\end{equation}\n",
      "$$\n",
      "\n",
      "that is, the error must go down by at least a factor of $1/3$ when the step size is cut in half.\n",
      "\n",
      "So, if we fix $s_e=1$ (as for Euler's method), we can see the *upper* bound on $\\sm{\\dt/2}$ given $s_m = 1.023$ is:"
     ]
    },
    {
     "cell_type": "code",
     "collapsed": false,
     "input": [
      "s_e = 1.0\n",
      "s_mdthalf_max = (2.0*s_m[1] + s_e)/3.0\n",
      "print(\"Upper bound when s_e=1 and s_m (coarse resolution)=1.023: \"\n",
      "      \"{:.7f}.\".format(s_mdthalf_max))"
     ],
     "language": "python",
     "metadata": {},
     "outputs": [
      {
       "output_type": "stream",
       "stream": "stdout",
       "text": [
        "Upper bound when s_e=1 and s_m (coarse resolution)=1.023: 1.0155107.\n"
       ]
      }
     ],
     "prompt_number": 8
    },
    {
     "cell_type": "markdown",
     "metadata": {},
     "source": [
      "In general, for Euler's method, the bound varies linearly:"
     ]
    },
    {
     "cell_type": "code",
     "collapsed": false,
     "input": [
      "s_m_values = numpy.linspace(0.5, 1.5)\n",
      "bound = (2.0*s_m_values + 1.0)/3.0\n",
      "pyplot.figure(figsize=(8,6))\n",
      "pyplot.fill_between(s_m_values, numpy.ones_like(s_m_values), bound,\n",
      "                    facecolor='green', alpha=0.5)\n",
      "#pyplot.ylim(1.0, 2.5)\n",
      "pyplot.xlim(0.5, 1.5)\n",
      "pyplot.xlabel(r\"$s_m^{(\\Delta t)}$\")\n",
      "pyplot.ylabel(r\"$s_m^{(\\Delta t / 2)}$\");"
     ],
     "language": "python",
     "metadata": {},
     "outputs": [
      {
       "metadata": {},
       "output_type": "display_data",
       "png": "[encoded data removed]",
       "text": [
        "<matplotlib.figure.Figure at 0x10622a3d0>"
       ]
      }
     ],
     "prompt_number": 9
    },
    {
     "cell_type": "heading",
     "level": 2,
     "metadata": {},
     "source": [
      "Summary"
     ]
    },
    {
     "cell_type": "markdown",
     "metadata": {},
     "source": [
      "If we want the algorithm to behave in the way expected of Euler's method, then measuring a single convergence rate is useful but not sufficient. Instead we must measure the convergence rate twice, once with base timestep $\\dt$ and once with base timestep $\\dt/2$. The difference between the measured slope $\\sm{\\dt}$ and the expected slope $s_e=1$ must go down by at least $1/3$ when the timestep is reduced to $\\dt/2$."
     ]
    }
   ],
   "metadata": {}
  }
 ]
}