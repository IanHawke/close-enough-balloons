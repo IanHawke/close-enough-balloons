{
 "metadata": {
  "kernelspec": {
   "display_name": "Python 3",
   "language": "python",
   "name": "python3"
  },
  "language_info": {
   "codemirror_mode": {
    "name": "ipython",
    "version": 3
   },
   "file_extension": ".py",
   "mimetype": "text/x-python",
   "name": "python",
   "nbconvert_exporter": "python",
   "pygments_lexer": "ipython3",
   "version": "3.4.2"
  },
  "name": "",
  "signature": "sha256:8fb569c4463104c7a8f79288c625eceaf4960627d9b9d0fc572c7eace8b4d296"
 },
 "nbformat": 3,
 "nbformat_minor": 0,
 "worksheets": [
  {
   "cells": [
    {
     "cell_type": "markdown",
     "metadata": {},
     "source": [
      "$$\n",
      "\\newcommand{\\dt}{\\Delta t}\n",
      "\\newcommand{\\udt}[1]{u^{({#1})}(T)}\n",
      "\\newcommand{\\Edt}[1]{E^{({#1})}}\n",
      "\\newcommand{\\uone}[1]{u_{1}^{({#1})}}\n",
      "$$"
     ]
    },
    {
     "cell_type": "markdown",
     "metadata": {},
     "source": [
      "This is the third in a series of posts on testing scientific software. For this to make sense, you'll need to have skimmed [the motivation and background](http://ianhawke.github.io/blog/close-enough.html). The [first in the series](http://ianhawke.github.io/blog/close-enough-part-1.html) assumed we only cared about the answer, and whether we'd implemented the expected algorithm wasn't important. The [second](http://ianhawke.github.io/blog/close-enough-part-2.html) assumed we cared about the convergence rate of the algorithm, not the specific answer, nor the precise algorithm itself."
     ]
    },
    {
     "cell_type": "markdown",
     "metadata": {},
     "source": [
      "In the previous cases we've focused on the *behaviour* of the algorithm: whether it will give the correct answer in the limit, or whether it converges as expected.  This is really what you want to do: you're trying to do science, to get an answer, and so implementing the precise algorithm should be secondary.  If you are trying to implement a precise algorithm, it should be because of its (expected) behaviour, and so you should be testing for that!\n",
      "\n",
      "However, let's put that aside and see if we can work out how to test whether we've implemented exactly the algorithm we want: Euler's method. Checking convergence alone is not enough: the [Backwards Euler method](http://en.wikipedia.org/wiki/Backward_Euler_method) has identical convergence behaviour, as do whole families of other methods. We need a check that characterizes the method uniquely."
     ]
    },
    {
     "cell_type": "markdown",
     "metadata": {},
     "source": [
      "The *local truncation error* $\\Edt{\\dt}$ would be exactly such a check. This is the error produced by a single step from exact data, eg\n",
      "\n",
      "$$\n",
      "\\begin{equation}\n",
      "  \\Edt{\\dt} = u_1 - u(\\dt).\n",
      "\\end{equation}\n",
      "$$\n",
      "\n",
      "This is enough as Euler's method is independent of the data, so each individual step performs the same operations.\n",
      "\n",
      "For Euler's method we have\n",
      "\n",
      "$$\n",
      "\\begin{equation}\n",
      "  u_{n+1} = u_n + \\dt f(t_n, u_n)\n",
      "\\end{equation}\n",
      "$$\n",
      "\n",
      "and so\n",
      "\n",
      "$$\n",
      "\\begin{equation}\n",
      "  \\Edt{\\dt} = \\left| u_0 + \\dt f(0, u_0) - u(\\dt) \\right| =  \\left| \\frac{\\dt^2}{2} \\left. u''\\right|_{t=0} \\right| + {\\cal O}(\\dt^3).\n",
      "\\end{equation}\n",
      "$$\n"
     ]
    },
    {
     "cell_type": "markdown",
     "metadata": {},
     "source": [
      "This is all well and good, but we don't know the exact solution (in principle) at any point other than $t=0$, so cannot compute $u(\\dt)$, so cannot compute $\\Edt{\\dt}$. We only know $\\uone{\\dt}$ for whichever values of $\\dt$ we wish to compute."
     ]
    },
    {
     "cell_type": "markdown",
     "metadata": {},
     "source": [
      "We can use repeated Richardson extrapolation to get the solution $u(\\dt)$ to sufficient accuracy, however. On the *assumption* that the algorithm is first order (we can use the previous techniques to check this), we can use Richardson extrapolation to repeatedly remove the highest order error terms. We can thus find the local truncation errors."
     ]
    },
    {
     "cell_type": "code",
     "collapsed": true,
     "input": [
      "from math import sin, cos, log, ceil\n",
      "import numpy\n",
      "from matplotlib import pyplot\n",
      "%matplotlib inline\n",
      "from matplotlib import rcParams\n",
      "rcParams['font.family'] = 'serif'\n",
      "rcParams['font.size'] = 16"
     ],
     "language": "python",
     "metadata": {},
     "outputs": [],
     "prompt_number": 1
    },
    {
     "cell_type": "markdown",
     "metadata": {},
     "source": [
      "We will again need the code implementing Euler's method [the full phugoid model notebook](http://nbviewer.ipython.org/github/numerical-mooc/numerical-mooc/blob/master/lessons/01_phugoid/01_03_PhugoidFullModel.ipynb)."
     ]
    },
    {
     "cell_type": "code",
     "collapsed": true,
     "input": [
      "# model parameters:\n",
      "g = 9.8      # gravity in m s^{-2}\n",
      "v_t = 30.0   # trim velocity in m s^{-1}   \n",
      "C_D = 1/40.  # drag coefficient --- or D/L if C_L=1\n",
      "C_L = 1.0    # for convenience, use C_L = 1\n",
      "\n",
      "### set initial conditions ###\n",
      "v0 = v_t     # start at the trim velocity (or add a delta)\n",
      "theta0 = 0.0 # initial angle of trajectory\n",
      "x0 = 0.0     # horizotal position is arbitrary\n",
      "y0 = 1000.0  # initial altitude"
     ],
     "language": "python",
     "metadata": {},
     "outputs": [],
     "prompt_number": 2
    },
    {
     "cell_type": "code",
     "collapsed": true,
     "input": [
      "def f(u):\n",
      "    \"\"\"Returns the right-hand side of the phugoid system of equations.\n",
      "    \n",
      "    Parameters\n",
      "    ----------\n",
      "    u : array of float\n",
      "        array containing the solution at time n.\n",
      "        \n",
      "    Returns\n",
      "    -------\n",
      "    dudt : array of float\n",
      "        array containing the RHS given u.\n",
      "    \"\"\"\n",
      "    \n",
      "    v = u[0]\n",
      "    theta = u[1]\n",
      "    x = u[2]\n",
      "    y = u[3]\n",
      "    return numpy.array([-g*sin(theta) - C_D/C_L*g/v_t**2*v**2,\n",
      "                      -g*cos(theta)/v + g/v_t**2*v,\n",
      "                      v*cos(theta),\n",
      "                      v*sin(theta)])"
     ],
     "language": "python",
     "metadata": {},
     "outputs": [],
     "prompt_number": 3
    },
    {
     "cell_type": "code",
     "collapsed": true,
     "input": [
      "def euler_step(u, f, dt):\n",
      "    \"\"\"Returns the solution at the next time-step using Euler's method.\n",
      "    \n",
      "    Parameters\n",
      "    ----------\n",
      "    u : array of float\n",
      "        solution at the previous time-step.\n",
      "    f : function\n",
      "        function to compute the right hand-side of the system of equation.\n",
      "    dt : float\n",
      "        time-increment.\n",
      "    \n",
      "    Returns\n",
      "    -------\n",
      "    u_n_plus_1 : array of float\n",
      "        approximate solution at the next time step.\n",
      "    \"\"\"\n",
      "    \n",
      "    return u + dt * f(u)"
     ],
     "language": "python",
     "metadata": {},
     "outputs": [],
     "prompt_number": 4
    },
    {
     "cell_type": "markdown",
     "metadata": {},
     "source": [
      "This time we will need lots of solutions in order to measure anything. We will construct ten local truncation errors. For each, we take a single step and store the result for $v$. Then, for each single step result, we use eight other calculations using our algorithm. Each will take multiple, smaller, steps to get a more accurate result for $v$ at the same time. We then use repeated Richardson extrapolation to find, to very high accuracy, the \"true\" result for $v$ at this time. Finally, we can compare against the original single step results to find the local truncation errors.\n",
      "\n",
      "This *only* works if the algorithm is converging at the expected rate, as we checked in [the second post](http://ianhawke.github.io/blog/close-enough-part-2.html). It does not rely on the algorithm being exactly Euler's method (thankfully, or the argument would be circular!), but does need the convergence rate to be known."
     ]
    },
    {
     "cell_type": "code",
     "collapsed": false,
     "input": [
      "T_values = numpy.array([0.001*2**(i) for i in range(10)])\n",
      "lte_values = numpy.zeros_like(T_values)\n",
      "for j, T in enumerate(T_values):\n",
      "    dt_values = numpy.array([T*2**(i-8) for i in range(8)])\n",
      "    v_values = numpy.zeros_like(dt_values)\n",
      "    for i, dt in enumerate(dt_values):\n",
      "        N = int(T/dt)+1\n",
      "        t = numpy.linspace(0.0, T, N)\n",
      "        u = numpy.empty((N, 4))\n",
      "        u[0] = numpy.array([v0, theta0, x0, y0])\n",
      "        for n in range(N-1):\n",
      "            u[n+1] = euler_step(u[n], f, dt)\n",
      "        v_values[i] = u[-1,0]\n",
      "    v_next = v_values\n",
      "    for s in range(1, len(v_values-1)):\n",
      "        v_next = (2**s*v_next[1:]-v_next[0:-1])/(2**s-1)\n",
      "    lte_values[j] = abs(v_values[0]-v_next)"
     ],
     "language": "python",
     "metadata": {},
     "outputs": [],
     "prompt_number": 5
    },
    {
     "cell_type": "markdown",
     "metadata": {},
     "source": [
      "This gives us a set of local truncation errors at given timesteps:"
     ]
    },
    {
     "cell_type": "code",
     "collapsed": false,
     "input": [
      "for dt, lte in zip(T_values, lte_values):\n",
      "    print(\"For dt={} the local truncation error is {}.\".format(dt, lte))"
     ],
     "language": "python",
     "metadata": {},
     "outputs": [
      {
       "output_type": "stream",
       "stream": "stdout",
       "text": [
        "For dt=0.001 the local truncation error is 1.99954897084e-09.\n",
        "For dt=0.002 the local truncation error is 8.05573563412e-09.\n",
        "For dt=0.004 the local truncation error is 3.26825286834e-08.\n",
        "For dt=0.008 the local truncation error is 1.34407251551e-07.\n",
        "For dt=0.016 the local truncation error is 5.67045063349e-07.\n",
        "For dt=0.032 the local truncation error is 2.50349015474e-06.\n",
        "For dt=0.064 the local truncation error is 1.18961298661e-05.\n",
        "For dt=0.128 the local truncation error is 6.26360622817e-05.\n",
        "For dt=0.256 the local truncation error is 0.000370836831557.\n",
        "For dt=0.512 the local truncation error is 0.00244291651282.\n"
       ]
      }
     ],
     "prompt_number": 6
    },
    {
     "cell_type": "markdown",
     "metadata": {},
     "source": [
      "We now have many values for the local truncation error. We can thus compute the convergence rate of the local truncation error itself (which should be two), and check that it is close enough to the expected value using the [same techniques as in the second post in the series](http://ianhawke.github.io/blog/close-enough-part-2.html):"
     ]
    },
    {
     "cell_type": "code",
     "collapsed": false,
     "input": [
      "s_m = numpy.zeros(2)\n",
      "for i in range(2):\n",
      "    s_m[i] = log(abs((lte_values[2+i]-lte_values[1+i])/\n",
      "                     (lte_values[1+i]-lte_values[0+i]))) / log(2.0)\n",
      "    print(\"Measured convergence rate (base dt {}) is {:.6g} (error is {:.4g}).\".format(\n",
      "            T_values[i], s_m[i], abs(s_m[i]-2)))\n",
      "print(\"Convergence error has reduced by factor {:.4g}.\".format(\n",
      "        abs(s_m[0]-2)/abs(s_m[1]-2)))"
     ],
     "language": "python",
     "metadata": {},
     "outputs": [
      {
       "output_type": "stream",
       "stream": "stdout",
       "text": [
        "Measured convergence rate (base dt 0.001) is 2.02375 (error is 0.02375).\n",
        "Measured convergence rate (base dt 0.002) is 2.04637 (error is 0.04637).\n",
        "Convergence error has reduced by factor 0.5121.\n"
       ]
      }
     ],
     "prompt_number": 7
    },
    {
     "cell_type": "markdown",
     "metadata": {},
     "source": [
      "So the error has gone down considerably, and certainly $0.51 > 1/3$, so the convergence rate of the local truncation error is close enough to 2."
     ]
    },
    {
     "cell_type": "markdown",
     "metadata": {},
     "source": [
      "However, that alone isn't enough to determine that this really is Euler's method: as noted above, the convergence rate of the local truncation error isn't the key point: the key point is that we can predict its *actual value* as\n",
      "\n",
      "$$\n",
      "\\begin{equation}\n",
      "  \\Edt{\\dt} =  \\frac{\\dt^2}{2} \\left| \\left. u''\\right|_{t=0} \\right| + {\\cal O}(\\dt^3) = \\frac{\\dt^2}{2} \\left| \\left( \\left. \\frac{\\partial f}{\\partial t} \\right|_{t=0} + f(0, u_0) \\left. \\frac{\\partial f}{\\partial u} \\right|_{t=0, u=u_0} \\right) \\right|.\n",
      "\\end{equation}\n",
      "$$\n",
      "\n",
      "For the specific problem considered here we have\n",
      "\n",
      "$$\n",
      "\\begin{equation}\n",
      "  u = \\begin{pmatrix} v \\\\ \\theta \\\\ x \\\\ y \\end{pmatrix}, \\quad f = \\begin{pmatrix} -g\\sin \\theta - \\frac{C_D}{C_L} \\frac{g}{v_t^2} v^2 \\\\ -\\frac{g}{v}\\cos \\theta + \\frac{g}{v_t^2} v \\\\ v \\cos \\theta \\\\ v \\sin \\theta \\end{pmatrix}.\n",
      "\\end{equation}\n",
      "$$\n",
      "\n",
      "We note that $f$ does not explicitly depend on $t$ (so $\\partial f / \\partial t \\equiv 0$), and that the values of the parameters $g, C_D, C_L$ and $v_t$ are given above, along with the initial data $u_0 = (v_0, \\theta_0, x_0, y_0)$."
     ]
    },
    {
     "cell_type": "markdown",
     "metadata": {},
     "source": [
      "So, let's find what the local truncation error should be."
     ]
    },
    {
     "cell_type": "code",
     "collapsed": false,
     "input": [
      "import sympy\n",
      "sympy.init_printing()\n",
      "v, theta, x, y, g, CD, CL, vt, dt = sympy.symbols('v, theta, x, y, g, C_D, C_L, v_t, {\\Delta}t')\n",
      "u = sympy.Matrix([v, theta, x, y])\n",
      "f = sympy.Matrix([-g*sympy.sin(theta)-CD/CL*g/vt**2*v**2, \n",
      "                  -g/v*sympy.cos(theta)+g/vt**2*v, \n",
      "                  v*sympy.cos(theta), \n",
      "                  v*sympy.sin(theta)])\n",
      "dfdu = f.jacobian(u)\n",
      "lte=dt**2/2*dfdu*f"
     ],
     "language": "python",
     "metadata": {},
     "outputs": [],
     "prompt_number": 8
    },
    {
     "cell_type": "code",
     "collapsed": false,
     "input": [
      "lte_0=lte.subs([(g,9.8),(vt,30.0),(CD,1.0/40.0),(CL,1.0),(v,30.0),(theta,0.0),(x,0.0),(y,1000.0)])\n",
      "lte_0"
     ],
     "language": "python",
     "metadata": {},
     "outputs": [
      {
       "latex": [
        "$$\\left[\\begin{matrix}0.00200083333333333 {\\Delta}t^{2}\\\\- 0.00266777777777778 {\\Delta}t^{2}\\\\- 0.1225 {\\Delta}t^{2}\\\\0\\end{matrix}\\right]$$"
       ],
       "metadata": {},
       "output_type": "pyout",
       "png": "[encoded data removed]",
       "prompt_number": 9,
       "text": [
        "\u23a1                             2 \u23a4\n",
        "\u23a20.00200083333333333\u22c5{\\Delta}t  \u23a5\n",
        "\u23a2                               \u23a5\n",
        "\u23a2                              2\u23a5\n",
        "\u23a2-0.00266777777777778\u22c5{\\Delta}t \u23a5\n",
        "\u23a2                               \u23a5\n",
        "\u23a2                       2       \u23a5\n",
        "\u23a2      -0.1225\u22c5{\\Delta}t        \u23a5\n",
        "\u23a2                               \u23a5\n",
        "\u23a3               0               \u23a6"
       ]
      }
     ],
     "prompt_number": 9
    },
    {
     "cell_type": "markdown",
     "metadata": {},
     "source": [
      "So let us check the local truncation error values, which are computed for `v`:"
     ]
    },
    {
     "cell_type": "code",
     "collapsed": false,
     "input": [
      "lte_exact = float(lte_0[0]/dt**2)\n",
      "lte_values/T_values**2"
     ],
     "language": "python",
     "metadata": {},
     "outputs": [
      {
       "metadata": {},
       "output_type": "pyout",
       "prompt_number": 10,
       "text": [
        "array([ 0.00199955,  0.00201393,  0.00204266,  0.00210011,  0.00221502,\n",
        "        0.00244481,  0.00290433,  0.003823  ,  0.00565852,  0.00931899])"
       ]
      }
     ],
     "prompt_number": 10
    },
    {
     "cell_type": "markdown",
     "metadata": {},
     "source": [
      "These are indeed converging towards $0.002 \\dt^2$ as they should. To check this quantitatively, we use that our model is\n",
      "\n",
      "$$\n",
      "\\begin{equation}\n",
      "  \\Edt{\\dt} = \\alpha \\dt^2 + {\\cal O}(\\dt^3),\n",
      "\\end{equation}\n",
      "$$\n",
      "\n",
      "with the exact value $\\alpha_e \\simeq 0.002$. So we can use our usual Richardson extrapolation methods applied to $\\Edt{\\dt}/\\dt^2$, to get a measured value for $\\alpha$ with an error interval:\n",
      "\n",
      "$$\n",
      "\\begin{equation}\n",
      "  \\alpha_m  = \\frac{8\\Edt{\\dt} - \\Edt{2\\dt} \\pm \\left| \\Edt{\\dt} - \\Edt{2\\dt} \\right|}{4\\dt^2}.\n",
      "\\end{equation}\n",
      "$$"
     ]
    },
    {
     "cell_type": "code",
     "collapsed": false,
     "input": [
      "for i in range(len(lte_values)-1):\n",
      "    Edt = lte_values[i]\n",
      "    E2dt = lte_values[i+1]\n",
      "    dt = T_values[i]\n",
      "    err1 = abs(Edt - E2dt)\n",
      "    a_lo = (8.0*Edt - E2dt - err1)/(4.0*dt**2)\n",
      "    a_hi = (8.0*Edt - E2dt + err1)/(4.0*dt**2)\n",
      "    print(\"Base dt={:.4g}: the measured alpha is in [{:.5g}, {:.5g}]\".format(\n",
      "            dt, a_lo, a_hi))\n",
      "    print(\"Does this contain the exact value? {}\".format(\n",
      "            a_lo <= lte_exact <= a_hi))"
     ],
     "language": "python",
     "metadata": {},
     "outputs": [
      {
       "output_type": "stream",
       "stream": "stdout",
       "text": [
        "Base dt=0.001: the measured alpha is in [0.00047112, 0.0034992]\n",
        "Does this contain the exact value? True\n",
        "Base dt=0.002: the measured alpha is in [0.00044604, 0.0035244]\n",
        "Does this contain the exact value? True\n",
        "Base dt=0.004: the measured alpha is in [0.00039575, 0.0035747]\n",
        "Does this contain the exact value? True\n",
        "Base dt=0.008: the measured alpha is in [0.00029522, 0.0036752]\n",
        "Does this contain the exact value? True\n",
        "Base dt=0.016: the measured alpha is in [9.4165e-05, 0.0038763]\n",
        "Does this contain the exact value? True\n",
        "Base dt=0.032: the measured alpha is in [-0.00030782, 0.0042784]\n",
        "Does this contain the exact value? True\n",
        "Base dt=0.064: the measured alpha is in [-0.0011113, 0.0050826]\n",
        "Does this contain the exact value? True\n",
        "Base dt=0.128: the measured alpha is in [-0.0027153, 0.0066903]\n",
        "Does this contain the exact value? True\n",
        "Base dt=0.256: the measured alpha is in [-0.0059063, 0.0099024]\n",
        "Does this contain the exact value? True\n"
       ]
      }
     ],
     "prompt_number": 11
    },
    {
     "cell_type": "markdown",
     "metadata": {},
     "source": [
      "So, to the limits that we can measure the local truncation error, we have implemented Euler's method."
     ]
    }
   ],
   "metadata": {}
  }
 ]
}