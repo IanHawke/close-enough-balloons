{
 "cells": [
  {
   "cell_type": "markdown",
   "metadata": {},
   "source": [
    "# N body simulation"
   ]
  },
  {
   "cell_type": "code",
   "execution_count": 1,
   "metadata": {
    "collapsed": false
   },
   "outputs": [
    {
     "data": {
      "text/html": [
       "<link href='http://fonts.googleapis.com/css?family=Open+Sans:100,300,400,500,700,800,900,100italic,300italic,400italic,500italic,700italic,800italic,900italic' rel='stylesheet' type='text/css'>\n",
       "<link href='http://fonts.googleapis.com/css?family=Arvo:400,700,400italic' rel='stylesheet' type='text/css'>\n",
       "<link href='http://fonts.googleapis.com/css?family=PT+Mono' rel='stylesheet' type='text/css'>\n",
       "<link href='http://fonts.googleapis.com/css?family=Shadows+Into+Light' rel='stylesheet' type='text/css'>\n",
       "<link href='http://fonts.googleapis.com/css?family=Nixie+One' rel='stylesheet' type='text/css'>\n",
       "<style>\n",
       "\n",
       "@font-face {\n",
       "    font-family: \"Computer Modern\";\n",
       "    src: url('http://mirrors.ctan.org/fonts/cm-unicode/fonts/otf/cmunss.otf');\n",
       "}\n",
       "\n",
       "#notebook_panel { /* main background */\n",
       "    background: rgb(245,245,245);\n",
       "}\n",
       "\n",
       "div.cell { /* set cell width */\n",
       "    width: 1000px;\n",
       "}\n",
       "\n",
       "div #notebook { /* centre the content */\n",
       "    background: #fff; /* white background for content */\n",
       "    width: 1200px;\n",
       "    margin: auto;\n",
       "    padding-left: 0em;\n",
       "}\n",
       "\n",
       "#notebook li { /* More space between bullet points */\n",
       "margin-top:0.8em;\n",
       "}\n",
       "\n",
       "/* draw border around running cells */\n",
       "div.cell.border-box-sizing.code_cell.running { \n",
       "    border: 1px solid #111;\n",
       "}\n",
       "\n",
       "/* Put a solid color box around each cell and its output, visually linking them*/\n",
       "div.cell.code_cell {\n",
       "    background-color: rgb(256,256,256); \n",
       "    border-radius: 0px; \n",
       "    padding: 0.5em;\n",
       "    margin-left:1em;\n",
       "    margin-top: 1em;\n",
       "}\n",
       "\n",
       "div.text_cell_render{\n",
       "    font-family: 'Open Sans' sans-serif;\n",
       "    line-height: 140%;\n",
       "    font-size: 125%;\n",
       "    font-weight: 400;\n",
       "    width:900px;\n",
       "    margin-left:auto;\n",
       "    margin-right:auto;\n",
       "}\n",
       "\n",
       "\n",
       "/* Formatting for header cells */\n",
       ".text_cell_render h1 {\n",
       "    font-family: 'Arvo', serif;\n",
       "    font-style:regular;\n",
       "    font-weight: 400;    \n",
       "    font-size: 45pt;\n",
       "    line-height: 100%;\n",
       "    color: rgb(0,51,102);\n",
       "    margin-bottom: 0.5em;\n",
       "    margin-top: 0.5em;\n",
       "    display: block;\n",
       "}\t\n",
       ".text_cell_render h2 {\n",
       "    font-family: 'Arvo', serif;\n",
       "    font-weight: 400;\n",
       "    font-size: 30pt;\n",
       "    line-height: 100%;\n",
       "    color: rgb(0,51,102);\n",
       "    margin-bottom: 0.1em;\n",
       "    margin-top: 0.3em;\n",
       "    display: block;\n",
       "}\t\n",
       "\n",
       ".text_cell_render h3 {\n",
       "    font-family: 'Arvo', serif;\n",
       "    margin-top:16px;\n",
       "\tfont-size: 22pt;\n",
       "    font-weight: 600;\n",
       "    margin-bottom: 3px;\n",
       "    font-style: regular;\n",
       "    color: rgb(102,102,0);\n",
       "}\n",
       "\n",
       ".text_cell_render h4 {    /*Use this for captions*/\n",
       "    font-family: 'Arvo', serif;\n",
       "    font-size: 14pt;\n",
       "    text-align: center;\n",
       "    margin-top: 0em;\n",
       "    margin-bottom: 2em;\n",
       "    font-style: regular;\n",
       "}\n",
       "\n",
       ".text_cell_render h5 {  /*Use this for small titles*/\n",
       "    font-family: 'Arvo', sans-serif;\n",
       "    font-weight: 400;\n",
       "    font-size: 16pt;\n",
       "    color: rgb(163,0,0);\n",
       "    font-style: italic;\n",
       "    margin-bottom: .1em;\n",
       "    margin-top: 0.8em;\n",
       "    display: block;\n",
       "}\n",
       "\n",
       ".text_cell_render h6 { /*use this for copyright note*/\n",
       "    font-family: 'PT Mono', sans-serif;\n",
       "    font-weight: 300;\n",
       "    font-size: 9pt;\n",
       "    line-height: 100%;\n",
       "    color: grey;\n",
       "    margin-bottom: 1px;\n",
       "    margin-top: 1px;\n",
       "}\n",
       "\n",
       ".CodeMirror{\n",
       "        font-family: \"PT Mono\";\n",
       "        font-size: 90%;\n",
       "}\n",
       "\n",
       "</style>\n",
       "<script>\n",
       "    MathJax.Hub.Config({\n",
       "                        TeX: {\n",
       "                           extensions: [\"AMSmath.js\"],\n",
       "                           equationNumbers: { autoNumber: \"AMS\", useLabelIds: true}\n",
       "                           },\n",
       "                tex2jax: {\n",
       "                    inlineMath: [ ['$','$'], [\"\\\\(\",\"\\\\)\"] ],\n",
       "                    displayMath: [ ['$$','$$'], [\"\\\\[\",\"\\\\]\"] ]\n",
       "                },\n",
       "                displayAlign: 'center', // Change this to 'center' to center equations.\n",
       "                \"HTML-CSS\": {\n",
       "                    styles: {'.MathJax_Display': {\"margin\": 4}}\n",
       "                }\n",
       "        });\n",
       "</script>\n"
      ],
      "text/plain": [
       "<IPython.core.display.HTML object>"
      ]
     },
     "execution_count": 1,
     "metadata": {},
     "output_type": "execute_result"
    }
   ],
   "source": [
    "from IPython.core.display import HTML\n",
    "css_file = 'https://raw.githubusercontent.com/ngcm/training-public/master/ipython_notebook_styles/ngcmstyle.css'\n",
    "HTML(url=css_file)"
   ]
  },
  {
   "cell_type": "code",
   "execution_count": 2,
   "metadata": {
    "collapsed": true
   },
   "outputs": [],
   "source": [
    "import numpy\n",
    "from matplotlib import pyplot\n",
    "%matplotlib inline\n",
    "from matplotlib import rcParams\n",
    "rcParams['font.family'] = 'serif'\n",
    "rcParams['font.size'] = 16"
   ]
  },
  {
   "cell_type": "markdown",
   "metadata": {},
   "source": [
    "In [Greg's original post](http://software-carpentry.org/blog/2014/10/why-we-dont-teach-testing.html) he specifically references the [Python 3 version](http://benchmarksgame.alioth.debian.org/u32/program.php?test=nbody&lang=python3&id=1) of the [n-body benchmark](http://benchmarksgame.alioth.debian.org/u32/performance.php?test=nbody). In particular, he asks how to test the `advance` function. Let's reproduce that code here."
   ]
  },
  {
   "cell_type": "code",
   "execution_count": 12,
   "metadata": {
    "collapsed": true
   },
   "outputs": [],
   "source": [
    "# The Computer Language Benchmarks Game\n",
    "# http://benchmarksgame.alioth.debian.org/\n",
    "#\n",
    "# originally by Kevin Carson\n",
    "# modified by Tupteq, Fredrik Johansson, and Daniel Nanz\n",
    "# modified by Maciej Fijalkowski\n",
    "# 2to3\n",
    "\n",
    "import sys \n",
    "\n",
    "def combinations(l):\n",
    "    result = []\n",
    "    for x in range(len(l) - 1):\n",
    "        ls = l[x+1:]\n",
    "        for y in ls:\n",
    "            result.append((l[x],y))\n",
    "    return result\n",
    "\n",
    "PI = 3.14159265358979323\n",
    "SOLAR_MASS = 4 * PI * PI\n",
    "DAYS_PER_YEAR = 365.24\n",
    "\n",
    "BODIES = {\n",
    "    'sun': ([0.0, 0.0, 0.0], [0.0, 0.0, 0.0], SOLAR_MASS),\n",
    "\n",
    "    'jupiter': ([4.84143144246472090e+00,\n",
    "                 -1.16032004402742839e+00,\n",
    "                 -1.03622044471123109e-01],\n",
    "                [1.66007664274403694e-03 * DAYS_PER_YEAR,\n",
    "                 7.69901118419740425e-03 * DAYS_PER_YEAR,\n",
    "                 -6.90460016972063023e-05 * DAYS_PER_YEAR],\n",
    "                9.54791938424326609e-04 * SOLAR_MASS),\n",
    "\n",
    "    'saturn': ([8.34336671824457987e+00,\n",
    "                4.12479856412430479e+00,\n",
    "                -4.03523417114321381e-01],\n",
    "               [-2.76742510726862411e-03 * DAYS_PER_YEAR,\n",
    "                4.99852801234917238e-03 * DAYS_PER_YEAR,\n",
    "                2.30417297573763929e-05 * DAYS_PER_YEAR],\n",
    "               2.85885980666130812e-04 * SOLAR_MASS),\n",
    "\n",
    "    'uranus': ([1.28943695621391310e+01,\n",
    "                -1.51111514016986312e+01,\n",
    "                -2.23307578892655734e-01],\n",
    "               [2.96460137564761618e-03 * DAYS_PER_YEAR,\n",
    "                2.37847173959480950e-03 * DAYS_PER_YEAR,\n",
    "                -2.96589568540237556e-05 * DAYS_PER_YEAR],\n",
    "               4.36624404335156298e-05 * SOLAR_MASS),\n",
    "\n",
    "    'neptune': ([1.53796971148509165e+01,\n",
    "                 -2.59193146099879641e+01,\n",
    "                 1.79258772950371181e-01],\n",
    "                [2.68067772490389322e-03 * DAYS_PER_YEAR,\n",
    "                 1.62824170038242295e-03 * DAYS_PER_YEAR,\n",
    "                 -9.51592254519715870e-05 * DAYS_PER_YEAR],\n",
    "                5.15138902046611451e-05 * SOLAR_MASS) }\n",
    "\n",
    "\n",
    "SYSTEM = list(BODIES.values())\n",
    "PAIRS = combinations(SYSTEM)\n",
    "\n",
    "\n",
    "def advance(dt, n, bodies=SYSTEM, pairs=PAIRS):\n",
    "\n",
    "    for i in range(n):\n",
    "        for (([x1, y1, z1], v1, m1),\n",
    "             ([x2, y2, z2], v2, m2)) in pairs:\n",
    "            dx = x1 - x2\n",
    "            dy = y1 - y2\n",
    "            dz = z1 - z2\n",
    "            mag = dt * ((dx * dx + dy * dy + dz * dz) ** (-1.5))\n",
    "            b1m = m1 * mag\n",
    "            b2m = m2 * mag\n",
    "            v1[0] -= dx * b2m\n",
    "            v1[1] -= dy * b2m\n",
    "            v1[2] -= dz * b2m\n",
    "            v2[0] += dx * b1m\n",
    "            v2[1] += dy * b1m\n",
    "            v2[2] += dz * b1m\n",
    "        for (r, [vx, vy, vz], m) in bodies:\n",
    "            r[0] += dt * vx\n",
    "            r[1] += dt * vy\n",
    "            r[2] += dt * vz"
   ]
  },
  {
   "cell_type": "markdown",
   "metadata": {},
   "source": [
    "The first thing to note is the rules of the exercise, again. We're treating the function as a black box: we believe it should be implementing an algorithm with certain behaviour, and we want to check what that behaviour is. In this case it's using the [*semi-implicit Euler method*](http://en.wikipedia.org/wiki/Semi-implicit_Euler_method) (I think: would have been nice if this were documented!) to update in time, and a [direct particle-particle method](http://en.wikipedia.org/wiki/N-body_problem#Few_bodies) to compute the spatial interactions.\n",
    "\n",
    "That is, we can think of the algorithm as solving the ODE\n",
    "\n",
    "$$\n",
    "\\begin{equation}\n",
    "  \\frac{d y}{dt} = F(t, y)\n",
    "\\end{equation}\n",
    "$$\n",
    "\n",
    "where the vector $y$ contains the positions $x$ and velocities $v$ of each body. Due to the physics of the problem (ie, there's a total energy that we want to conserve) there's an advantage in considering the positions and velocities separately, but when it comes to measure the error we don't need to do that: we just treat the `advance` function as an algorithm that takes the full vector $y_n$ as input and returns $y_{n+1}$.\n",
    "\n",
    "What this means in practical terms is that we expect the error in time to have similar convergence rate behaviour to the standard Euler method discussed before: the convergence rate should be $1$, which can be checked both by the self-convergence being within $0.585$ and $1.585$, and also that the error in the convergence rate goes down by at least $1/3$ as the base resolution of $\\Delta t$ is reduced by $2$. Checking the local truncation error would require more detailed analysis, but in principle should follow the same steps as before."
   ]
  },
  {
   "cell_type": "markdown",
   "metadata": {},
   "source": [
    "What's more interesting here is the additional checks from the complexities of the particle-particle interaction. We can use our previous techniques to check that the time update algorithm is behaving as expected. However, the particle-particle interaction itself contains many steps, and those also need testing.\n",
    "\n",
    "Let's check the output on (a copy of) the default input, taking a *single* step."
   ]
  },
  {
   "cell_type": "code",
   "execution_count": 13,
   "metadata": {
    "collapsed": false
   },
   "outputs": [
    {
     "name": "stdout",
     "output_type": "stream",
     "text": [
      "[([8.333258974782792, 4.143055187836609, -0.40343925950055554], [-1.0107743461787924, 1.8256623712304119, 0.008415761376584154], 0.011286326131968767), ([12.905197472203547, -15.102464271516935, -0.22341590526666938], [1.0827910064415354, 0.8687130181696082, -0.010832637401363636], 0.0017237240570597112), ([15.389488022173355, -25.913367620001488, 0.1789112133953304], [0.979090732243898, 0.5946989986476762, -0.034755955504078104], 0.0020336868699246304), ([0.0, 0.0, 0.0], [0.0, 0.0, 0.0], 39.47841760435743), ([4.847494706394679, -1.1322001755782658, -0.10387422808772198], [0.606326392995832, 2.81198684491626, -0.02521836165988763], 0.03769367487038949)]\n",
      "[([8.34336671824458, 4.124798564124305, -0.4035234171143214], [-1.0148533649892928, 1.8236404735352374, 0.00861323535682711], 0.011286326131968767), ([12.894369562139131, -15.111151401698631, -0.22330757889265573], [1.0821409847561863, 0.8694752833109706, -0.010821379117708814], 0.0017237240570597112), ([15.379697114850917, -25.919314609987964, 0.17925877295037118], [0.9788686976130451, 0.5950734810190818, -0.034758553169444574], 0.0020336868699246304), ([0.0, 0.0, 0.0], [1.5983797301314366e-05, -3.0187796864956456e-06, -3.7301159863604027e-07], 39.47841760435743), ([4.841431442464721, -1.1603200440274284, -0.10362204447112311], [0.5908488391821772, 2.8156988981387063, -0.02488719128116714], 0.03769367487038949)]\n"
     ]
    }
   ],
   "source": [
    "import copy\n",
    "bodies = copy.deepcopy(SYSTEM)\n",
    "advance(dt=0.01, n=1, bodies=bodies)\n",
    "print(bodies)\n",
    "print(SYSTEM)"
   ]
  },
  {
   "cell_type": "markdown",
   "metadata": {},
   "source": [
    "First, let's create a utility function that will give the displacement of the bodies."
   ]
  },
  {
   "cell_type": "code",
   "execution_count": null,
   "metadata": {
    "collapsed": true
   },
   "outputs": [],
   "source": [
    "def displacement(updates):\n",
    "    return updates"
   ]
  }
 ],
 "metadata": {
  "kernelspec": {
   "display_name": "Python 3",
   "language": "python",
   "name": "python3"
  },
  "language_info": {
   "codemirror_mode": {
    "name": "ipython",
    "version": 3
   },
   "file_extension": ".py",
   "mimetype": "text/x-python",
   "name": "python",
   "nbconvert_exporter": "python",
   "pygments_lexer": "ipython3",
   "version": "3.4.2"
  }
 },
 "nbformat": 4,
 "nbformat_minor": 0
}
