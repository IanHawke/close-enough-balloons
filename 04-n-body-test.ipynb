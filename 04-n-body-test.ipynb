{
 "cells": [
  {
   "cell_type": "markdown",
   "metadata": {},
   "source": [
    "# N body simulation"
   ]
  },
  {
   "cell_type": "code",
   "execution_count": 1,
   "metadata": {
    "collapsed": false
   },
   "outputs": [
    {
     "data": {
      "text/html": [
       "<link href='http://fonts.googleapis.com/css?family=Open+Sans:100,300,400,500,700,800,900,100italic,300italic,400italic,500italic,700italic,800italic,900italic' rel='stylesheet' type='text/css'>\n",
       "<link href='http://fonts.googleapis.com/css?family=Arvo:400,700,400italic' rel='stylesheet' type='text/css'>\n",
       "<link href='http://fonts.googleapis.com/css?family=PT+Mono' rel='stylesheet' type='text/css'>\n",
       "<link href='http://fonts.googleapis.com/css?family=Shadows+Into+Light' rel='stylesheet' type='text/css'>\n",
       "<link href='http://fonts.googleapis.com/css?family=Nixie+One' rel='stylesheet' type='text/css'>\n",
       "<style>\n",
       "\n",
       "@font-face {\n",
       "    font-family: \"Computer Modern\";\n",
       "    src: url('http://mirrors.ctan.org/fonts/cm-unicode/fonts/otf/cmunss.otf');\n",
       "}\n",
       "\n",
       "#notebook_panel { /* main background */\n",
       "    background: rgb(245,245,245);\n",
       "}\n",
       "\n",
       "div.cell { /* set cell width */\n",
       "    width: 1000px;\n",
       "}\n",
       "\n",
       "div #notebook { /* centre the content */\n",
       "    background: #fff; /* white background for content */\n",
       "    width: 1200px;\n",
       "    margin: auto;\n",
       "    padding-left: 0em;\n",
       "}\n",
       "\n",
       "#notebook li { /* More space between bullet points */\n",
       "margin-top:0.8em;\n",
       "}\n",
       "\n",
       "/* draw border around running cells */\n",
       "div.cell.border-box-sizing.code_cell.running { \n",
       "    border: 1px solid #111;\n",
       "}\n",
       "\n",
       "/* Put a solid color box around each cell and its output, visually linking them*/\n",
       "div.cell.code_cell {\n",
       "    background-color: rgb(256,256,256); \n",
       "    border-radius: 0px; \n",
       "    padding: 0.5em;\n",
       "    margin-left:1em;\n",
       "    margin-top: 1em;\n",
       "}\n",
       "\n",
       "div.text_cell_render{\n",
       "    font-family: 'Open Sans' sans-serif;\n",
       "    line-height: 140%;\n",
       "    font-size: 125%;\n",
       "    font-weight: 400;\n",
       "    width:900px;\n",
       "    margin-left:auto;\n",
       "    margin-right:auto;\n",
       "}\n",
       "\n",
       "\n",
       "/* Formatting for header cells */\n",
       ".text_cell_render h1 {\n",
       "    font-family: 'Arvo', serif;\n",
       "    font-style:regular;\n",
       "    font-weight: 400;    \n",
       "    font-size: 45pt;\n",
       "    line-height: 100%;\n",
       "    color: rgb(0,51,102);\n",
       "    margin-bottom: 0.5em;\n",
       "    margin-top: 0.5em;\n",
       "    display: block;\n",
       "}\t\n",
       ".text_cell_render h2 {\n",
       "    font-family: 'Arvo', serif;\n",
       "    font-weight: 400;\n",
       "    font-size: 30pt;\n",
       "    line-height: 100%;\n",
       "    color: rgb(0,51,102);\n",
       "    margin-bottom: 0.1em;\n",
       "    margin-top: 0.3em;\n",
       "    display: block;\n",
       "}\t\n",
       "\n",
       ".text_cell_render h3 {\n",
       "    font-family: 'Arvo', serif;\n",
       "    margin-top:16px;\n",
       "\tfont-size: 22pt;\n",
       "    font-weight: 600;\n",
       "    margin-bottom: 3px;\n",
       "    font-style: regular;\n",
       "    color: rgb(102,102,0);\n",
       "}\n",
       "\n",
       ".text_cell_render h4 {    /*Use this for captions*/\n",
       "    font-family: 'Arvo', serif;\n",
       "    font-size: 14pt;\n",
       "    text-align: center;\n",
       "    margin-top: 0em;\n",
       "    margin-bottom: 2em;\n",
       "    font-style: regular;\n",
       "}\n",
       "\n",
       ".text_cell_render h5 {  /*Use this for small titles*/\n",
       "    font-family: 'Arvo', sans-serif;\n",
       "    font-weight: 400;\n",
       "    font-size: 16pt;\n",
       "    color: rgb(163,0,0);\n",
       "    font-style: italic;\n",
       "    margin-bottom: .1em;\n",
       "    margin-top: 0.8em;\n",
       "    display: block;\n",
       "}\n",
       "\n",
       ".text_cell_render h6 { /*use this for copyright note*/\n",
       "    font-family: 'PT Mono', sans-serif;\n",
       "    font-weight: 300;\n",
       "    font-size: 9pt;\n",
       "    line-height: 100%;\n",
       "    color: grey;\n",
       "    margin-bottom: 1px;\n",
       "    margin-top: 1px;\n",
       "}\n",
       "\n",
       ".CodeMirror{\n",
       "        font-family: \"PT Mono\";\n",
       "        font-size: 90%;\n",
       "}\n",
       "\n",
       "</style>\n",
       "<script>\n",
       "    MathJax.Hub.Config({\n",
       "                        TeX: {\n",
       "                           extensions: [\"AMSmath.js\"],\n",
       "                           equationNumbers: { autoNumber: \"AMS\", useLabelIds: true}\n",
       "                           },\n",
       "                tex2jax: {\n",
       "                    inlineMath: [ ['$','$'], [\"\\\\(\",\"\\\\)\"] ],\n",
       "                    displayMath: [ ['$$','$$'], [\"\\\\[\",\"\\\\]\"] ]\n",
       "                },\n",
       "                displayAlign: 'center', // Change this to 'center' to center equations.\n",
       "                \"HTML-CSS\": {\n",
       "                    styles: {'.MathJax_Display': {\"margin\": 4}}\n",
       "                }\n",
       "        });\n",
       "</script>\n"
      ],
      "text/plain": [
       "<IPython.core.display.HTML object>"
      ]
     },
     "execution_count": 1,
     "metadata": {},
     "output_type": "execute_result"
    }
   ],
   "source": [
    "from IPython.core.display import HTML\n",
    "css_file = 'https://raw.githubusercontent.com/ngcm/training-public/master/ipython_notebook_styles/ngcmstyle.css'\n",
    "HTML(url=css_file)"
   ]
  },
  {
   "cell_type": "code",
   "execution_count": 2,
   "metadata": {
    "collapsed": true
   },
   "outputs": [],
   "source": [
    "import numpy\n",
    "from matplotlib import pyplot\n",
    "%matplotlib inline\n",
    "from matplotlib import rcParams\n",
    "rcParams['font.family'] = 'serif'\n",
    "rcParams['font.size'] = 16"
   ]
  },
  {
   "cell_type": "markdown",
   "metadata": {},
   "source": [
    "In [Greg's original post](http://software-carpentry.org/blog/2014/10/why-we-dont-teach-testing.html) he specifically references the [Python 3 version](http://benchmarksgame.alioth.debian.org/u32/program.php?test=nbody&lang=python3&id=1) of the [n-body benchmark](http://benchmarksgame.alioth.debian.org/u32/performance.php?test=nbody). In particular, he asks how to test the `advance` function. Let's reproduce that code here."
   ]
  },
  {
   "cell_type": "code",
   "execution_count": 3,
   "metadata": {
    "collapsed": true
   },
   "outputs": [],
   "source": [
    "# The Computer Language Benchmarks Game\n",
    "# http://benchmarksgame.alioth.debian.org/\n",
    "#\n",
    "# originally by Kevin Carson\n",
    "# modified by Tupteq, Fredrik Johansson, and Daniel Nanz\n",
    "# modified by Maciej Fijalkowski\n",
    "# 2to3\n",
    "\n",
    "import sys \n",
    "\n",
    "def combinations(l):\n",
    "    result = []\n",
    "    for x in range(len(l) - 1):\n",
    "        ls = l[x+1:]\n",
    "        for y in ls:\n",
    "            result.append((l[x],y))\n",
    "    return result\n",
    "\n",
    "PI = 3.14159265358979323\n",
    "SOLAR_MASS = 4 * PI * PI\n",
    "DAYS_PER_YEAR = 365.24\n",
    "\n",
    "BODIES = {\n",
    "    'sun': ([0.0, 0.0, 0.0], [0.0, 0.0, 0.0], SOLAR_MASS),\n",
    "\n",
    "    'jupiter': ([4.84143144246472090e+00,\n",
    "                 -1.16032004402742839e+00,\n",
    "                 -1.03622044471123109e-01],\n",
    "                [1.66007664274403694e-03 * DAYS_PER_YEAR,\n",
    "                 7.69901118419740425e-03 * DAYS_PER_YEAR,\n",
    "                 -6.90460016972063023e-05 * DAYS_PER_YEAR],\n",
    "                9.54791938424326609e-04 * SOLAR_MASS),\n",
    "\n",
    "    'saturn': ([8.34336671824457987e+00,\n",
    "                4.12479856412430479e+00,\n",
    "                -4.03523417114321381e-01],\n",
    "               [-2.76742510726862411e-03 * DAYS_PER_YEAR,\n",
    "                4.99852801234917238e-03 * DAYS_PER_YEAR,\n",
    "                2.30417297573763929e-05 * DAYS_PER_YEAR],\n",
    "               2.85885980666130812e-04 * SOLAR_MASS),\n",
    "\n",
    "    'uranus': ([1.28943695621391310e+01,\n",
    "                -1.51111514016986312e+01,\n",
    "                -2.23307578892655734e-01],\n",
    "               [2.96460137564761618e-03 * DAYS_PER_YEAR,\n",
    "                2.37847173959480950e-03 * DAYS_PER_YEAR,\n",
    "                -2.96589568540237556e-05 * DAYS_PER_YEAR],\n",
    "               4.36624404335156298e-05 * SOLAR_MASS),\n",
    "\n",
    "    'neptune': ([1.53796971148509165e+01,\n",
    "                 -2.59193146099879641e+01,\n",
    "                 1.79258772950371181e-01],\n",
    "                [2.68067772490389322e-03 * DAYS_PER_YEAR,\n",
    "                 1.62824170038242295e-03 * DAYS_PER_YEAR,\n",
    "                 -9.51592254519715870e-05 * DAYS_PER_YEAR],\n",
    "                5.15138902046611451e-05 * SOLAR_MASS) }\n",
    "\n",
    "\n",
    "SYSTEM = list(BODIES.values())\n",
    "PAIRS = combinations(SYSTEM)\n",
    "\n",
    "\n",
    "def advance(dt, n, bodies=SYSTEM, pairs=PAIRS):\n",
    "\n",
    "    for i in range(n):\n",
    "        for (([x1, y1, z1], v1, m1),\n",
    "             ([x2, y2, z2], v2, m2)) in pairs:\n",
    "            dx = x1 - x2\n",
    "            dy = y1 - y2\n",
    "            dz = z1 - z2\n",
    "            mag = dt * ((dx * dx + dy * dy + dz * dz) ** (-1.5))\n",
    "            b1m = m1 * mag\n",
    "            b2m = m2 * mag\n",
    "            v1[0] -= dx * b2m\n",
    "            v1[1] -= dy * b2m\n",
    "            v1[2] -= dz * b2m\n",
    "            v2[0] += dx * b1m\n",
    "            v2[1] += dy * b1m\n",
    "            v2[2] += dz * b1m\n",
    "        for (r, [vx, vy, vz], m) in bodies:\n",
    "            r[0] += dt * vx\n",
    "            r[1] += dt * vy\n",
    "            r[2] += dt * vz"
   ]
  },
  {
   "cell_type": "markdown",
   "metadata": {},
   "source": [
    "The first thing to note is the rules of the exercise, again. We're treating the function as a black box: we believe it should be implementing an algorithm with certain behaviour, and we want to check what that behaviour is. In this case it's using the [*semi-implicit Euler method*](http://en.wikipedia.org/wiki/Semi-implicit_Euler_method) (I think: would have been nice if this were documented!) to update in time, and a [direct particle-particle method](http://en.wikipedia.org/wiki/N-body_problem#Few_bodies) to compute the spatial interactions.\n",
    "\n",
    "That is, we can think of the algorithm as solving the ODE\n",
    "\n",
    "$$\n",
    "\\begin{equation}\n",
    "  \\frac{d y}{dt} = F(t, y)\n",
    "\\end{equation}\n",
    "$$\n",
    "\n",
    "where the vector $y$ contains the positions $x$ and velocities $v$ of each body. Due to the physics of the problem (ie, there's a total energy that we want to conserve) there's an advantage in considering the positions and velocities separately, but when it comes to measure the error we don't need to do that: we just treat the `advance` function as an algorithm that takes the full vector $y_n$ as input and returns $y_{n+1}$.\n",
    "\n",
    "What this means in practical terms is that we expect the error in time to have similar convergence rate behaviour to the standard Euler method discussed before: the convergence rate should be $1$, which can be checked both by the self-convergence being within $0.585$ and $1.585$, and also that the error in the convergence rate goes down by at least $1/3$ as the base resolution of $\\Delta t$ is reduced by $2$. Checking the local truncation error would require more detailed analysis, but in principle should follow the same steps as before."
   ]
  },
  {
   "cell_type": "markdown",
   "metadata": {},
   "source": [
    "What's more interesting here is the additional checks from the complexities of the particle-particle interaction. We can use our previous techniques to check that the time update algorithm is behaving as expected. However, the particle-particle interaction itself contains many steps, and those also need testing.\n",
    "\n",
    "Let's check the output on (a copy of) the default input, taking a *single* step."
   ]
  },
  {
   "cell_type": "code",
   "execution_count": 4,
   "metadata": {
    "collapsed": false
   },
   "outputs": [
    {
     "name": "stdout",
     "output_type": "stream",
     "text": [
      "[([1.5983797301314366e-07, -3.0187796864956455e-08, -3.730115986360403e-09], [1.5983797301314366e-05, -3.0187796864956456e-06, -3.7301159863604027e-07], 39.47841760435743), ([4.847339930856543, -1.1321630550460413, -0.10387091638393478], [0.5908488391821772, 2.8156988981387063, -0.02488719128116714], 0.03769367487038949), ([12.905190971986693, -15.102456648865521, -0.22341579268383283], [1.0821409847561863, 0.8694752833109706, -0.010821379117708814], 0.0017237240570597112), ([15.389485801827046, -25.913363875177772, 0.17891118741867673], [0.9788686976130451, 0.5950734810190818, -0.034758553169444574], 0.0020336868699246304), ([8.333218184594687, 4.1430349688596575, -0.40343728476075313], [-1.0148533649892928, 1.8236404735352374, 0.00861323535682711], 0.011286326131968767)]\n",
      "[([0.0, 0.0, 0.0], [0.0, 0.0, 0.0], 39.47841760435743), ([4.841431442464721, -1.1603200440274284, -0.10362204447112311], [0.606326392995832, 2.81198684491626, -0.02521836165988763], 0.03769367487038949), ([12.894369562139131, -15.111151401698631, -0.22330757889265573], [1.0827910064415354, 0.8687130181696082, -0.010832637401363636], 0.0017237240570597112), ([15.379697114850917, -25.919314609987964, 0.17925877295037118], [0.979090732243898, 0.5946989986476762, -0.034755955504078104], 0.0020336868699246304), ([8.34336671824458, 4.124798564124305, -0.4035234171143214], [-1.0107743461787924, 1.8256623712304119, 0.008415761376584154], 0.011286326131968767)]\n"
     ]
    }
   ],
   "source": [
    "import copy\n",
    "bodies = copy.deepcopy(SYSTEM)\n",
    "advance(dt=0.01, n=1, bodies=bodies, pairs=combinations(bodies))\n",
    "print(bodies)\n",
    "print(SYSTEM)"
   ]
  },
  {
   "cell_type": "markdown",
   "metadata": {},
   "source": [
    "First, let's create a utility function that will give the difference between two configurations of bodies."
   ]
  },
  {
   "cell_type": "code",
   "execution_count": 34,
   "metadata": {
    "collapsed": true
   },
   "outputs": [],
   "source": [
    "def differences(bodies1, bodies2):\n",
    "    \"\"\"\n",
    "    Compare two configurations.\n",
    "    \"\"\"\n",
    "    assert len(bodies1) == len(bodies2), \"Configurations must have same number of bodies! {}, {}\".format(len(bodies1), len(bodies2))\n",
    "    N = len(bodies1)\n",
    "    d_positions = numpy.zeros((N, 3))\n",
    "    d_velocities = numpy.zeros((N, 3))\n",
    "    norm_difference = 0.0\n",
    "    for n in range(N):\n",
    "        d_positions[n, :] = numpy.array(bodies1[n][0]) - numpy.array(bodies2[n][0])\n",
    "        d_velocities[n, :] = numpy.array(bodies1[n][1]) - numpy.array(bodies2[n][1])\n",
    "        norm_difference += numpy.linalg.norm(d_positions[n, :]) + numpy.linalg.norm(d_velocities[n, :])\n",
    "    return norm_difference, d_positions, d_velocities"
   ]
  },
  {
   "cell_type": "code",
   "execution_count": 35,
   "metadata": {
    "collapsed": false
   },
   "outputs": [],
   "source": [
    "norm1, d_x, d_v = differences(bodies, SYSTEM)"
   ]
  },
  {
   "cell_type": "code",
   "execution_count": 36,
   "metadata": {
    "collapsed": false
   },
   "outputs": [
    {
     "data": {
      "text/plain": [
       "array([[  1.59837973e-05,  -3.01877969e-06,  -3.73011599e-07],\n",
       "       [ -1.54775538e-02,   3.71205322e-03,   3.31170379e-04],\n",
       "       [ -6.50021685e-04,   7.62265141e-04,   1.12582837e-05],\n",
       "       [ -2.22034631e-04,   3.74482371e-04,  -2.59766537e-06],\n",
       "       [ -4.07901881e-03,  -2.02189770e-03,   1.97473980e-04]])"
      ]
     },
     "execution_count": 36,
     "metadata": {},
     "output_type": "execute_result"
    }
   ],
   "source": [
    "d_v"
   ]
  },
  {
   "cell_type": "markdown",
   "metadata": {},
   "source": [
    "Now we have to think about how to test the particle-particle interaction. The parameter we can change in order to do the test is the configuration `bodies` (and the associated list of `pairs`, which we'll always take to be `combinations(bodies)`)."
   ]
  },
  {
   "cell_type": "markdown",
   "metadata": {},
   "source": [
    "So we can either change the positions, or the velocities, of the bodies, or their masses (or some combination of the three). What changes make meaningful tests?\n",
    "\n",
    "Well, the coordinates chosen should not matter, *if* we change them in a self-consistent way, *and* interpret the results appropriately. For example, if we changed the direction of time (`dt` $\\to$ `-dt`) and changed the sign of the velocities, then the results should be identical."
   ]
  },
  {
   "cell_type": "code",
   "execution_count": 37,
   "metadata": {
    "collapsed": false
   },
   "outputs": [],
   "source": [
    "def flip_time(bodies):\n",
    "    \"\"\"\n",
    "    Flip the time by flipping the velocity.\n",
    "    \"\"\"\n",
    "    \n",
    "    for i in range(len(bodies)):\n",
    "        for j in range(3):\n",
    "            bodies[i][1][j] *= -1.0"
   ]
  },
  {
   "cell_type": "code",
   "execution_count": 38,
   "metadata": {
    "collapsed": false
   },
   "outputs": [
    {
     "name": "stdout",
     "output_type": "stream",
     "text": [
      "Norm of differences is 0.0.\n"
     ]
    }
   ],
   "source": [
    "bodies_flip_time = copy.deepcopy(SYSTEM)\n",
    "flip_time(bodies_flip_time)\n",
    "advance(dt=-0.01, n=1, bodies=bodies_flip_time, pairs=combinations(bodies_flip_time))\n",
    "flip_time(bodies_flip_time)\n",
    "norm_flip_time, d_x_flip_time, d_v_flip_time = differences(bodies, bodies_flip_time)\n",
    "print(\"Norm of differences is {}.\".format(norm_flip_time))"
   ]
  },
  {
   "cell_type": "markdown",
   "metadata": {},
   "source": [
    "As expected, the positions are identical. Note that the velocities are significantly different, because they still have the opposite sign."
   ]
  },
  {
   "cell_type": "markdown",
   "metadata": {},
   "source": [
    "This is just an example of a conservation law resulting from a symmetry: the consequence of [Emmy Noether's famous theorem](http://en.wikipedia.org/wiki/Noether's_theorem). There is a [detailed list][1] of symmetries that a physical theory could have, each of which has an associated conservation law. Not all physical models obey all symmetries, and not every numerical  simulation obeys all the symmetries of the physical model (maybe due to boundary conditions, or numerical approximations). However, in the n-body case we expect a large number of these symmetries to hold, which we can check.\n",
    "\n",
    "These include:\n",
    "\n",
    "* discrete parity symmetry (sending $x \\to -x$)\n",
    "* discrete time symmetry (sending $t \\to -t$)\n",
    "* discrete charge symmetry (sending $m \\to -m$: this makes no *physical* sense, but the theory still obeys it!)\n",
    "* continuous space translation ($x \\to x + a$)\n",
    "* continuous space rotation\n",
    "* continuous time translation (this is obeyed by the continuum model, but not by the numerical model)\n",
    "* continuous conformal (like) symmetry ($t \\to a t$, $x \\to a x$, and $m \\to a m$ all together).\n",
    "\n",
    "[1]: (http://en.wikipedia.org/wiki/Symmetry_(physics)#Conservation_laws_and_symmetry)"
   ]
  },
  {
   "cell_type": "markdown",
   "metadata": {},
   "source": [
    "Next, note that we should be able to flip individual coordinates: if $y \\to -y$ and $v_y \\to -v_y$, for example, then  the evolution of the other coordinates and velocities should be unaffected (and if this flip is reversed after evolution, the position should be identical)."
   ]
  },
  {
   "cell_type": "code",
   "execution_count": 39,
   "metadata": {
    "collapsed": true
   },
   "outputs": [],
   "source": [
    "def flip_coordinate(bodies, coord):\n",
    "    \"\"\"\n",
    "    Flip a single coordinate direction\n",
    "    \"\"\"\n",
    "    \n",
    "    for i in range(len(bodies)):\n",
    "        bodies[i][0][coord] *= -1.0\n",
    "        bodies[i][1][coord] *= -1.0"
   ]
  },
  {
   "cell_type": "code",
   "execution_count": 40,
   "metadata": {
    "collapsed": false
   },
   "outputs": [
    {
     "name": "stdout",
     "output_type": "stream",
     "text": [
      "Norm of differences is 0.0.\n"
     ]
    }
   ],
   "source": [
    "bodies_flip_y = copy.deepcopy(SYSTEM)\n",
    "flip_coordinate(bodies_flip_y, 1)\n",
    "advance(dt=0.01, n=1, bodies=bodies_flip_y, pairs=combinations(bodies_flip_y))\n",
    "flip_coordinate(bodies_flip_y, 1)\n",
    "norm_flip_y, d_x_flip_y, d_v_flip_y = differences(bodies, bodies_flip_y)\n",
    "print(\"Norm of differences is {}.\".format(norm_flip_y))"
   ]
  },
  {
   "cell_type": "markdown",
   "metadata": {},
   "source": [
    "Next, note that only the *separation* between bodies is meant to matter. So if we arbitrarily translate all coordinates by some amount whilst leaving the velocities untouched, and reverse this after evolution, the result should be identical."
   ]
  },
  {
   "cell_type": "code",
   "execution_count": 41,
   "metadata": {
    "collapsed": true
   },
   "outputs": [],
   "source": [
    "def translate_coordinate(bodies, shift):\n",
    "    \"\"\"\n",
    "    Translate the coordinates of all bodies\n",
    "    \"\"\"\n",
    "    \n",
    "    for i in range(len(bodies)):\n",
    "        for n in range(3):\n",
    "            bodies[i][0][n] += shift[n]"
   ]
  },
  {
   "cell_type": "code",
   "execution_count": 42,
   "metadata": {
    "collapsed": false
   },
   "outputs": [
    {
     "name": "stdout",
     "output_type": "stream",
     "text": [
      "Norm of differences is 2.80385659842308e-15.\n"
     ]
    }
   ],
   "source": [
    "shift = 10.0*(-0.5+numpy.random.rand(3)) # Random coordinate shift in [-5, 5]\n",
    "bodies_shift = copy.deepcopy(SYSTEM)\n",
    "translate_coordinate(bodies_shift, shift)\n",
    "advance(dt=0.01, n=1, bodies=bodies_shift, pairs=combinations(bodies_shift))\n",
    "translate_coordinate(bodies_shift, -shift)\n",
    "norm_shift, d_x_shift, d_v_shift = differences(bodies, bodies_shift)\n",
    "print(\"Norm of differences is {}.\".format(norm_shift))"
   ]
  },
  {
   "cell_type": "markdown",
   "metadata": {},
   "source": [
    "In this case the repeated operations introduce some floating point round-off error. This should be related to the round off introduced by the shift, and bounded by the number of bodies ($5$) multiplied by the total round-off introduced:"
   ]
  },
  {
   "cell_type": "code",
   "execution_count": 43,
   "metadata": {
    "collapsed": false
   },
   "outputs": [
    {
     "data": {
      "text/plain": [
       "1.1102230246251565e-15"
      ]
     },
     "execution_count": 43,
     "metadata": {},
     "output_type": "execute_result"
    }
   ],
   "source": [
    "numpy.sum(numpy.abs(numpy.spacing(shift)))"
   ]
  },
  {
   "cell_type": "markdown",
   "metadata": {},
   "source": [
    "The precise differences are:"
   ]
  },
  {
   "cell_type": "code",
   "execution_count": 44,
   "metadata": {
    "collapsed": false
   },
   "outputs": [
    {
     "name": "stdout",
     "output_type": "stream",
     "text": [
      "[[ -6.62471880e-17  -1.58129980e-16  -2.14544258e-16]\n",
      " [  0.00000000e+00   0.00000000e+00   3.05311332e-16]\n",
      " [  0.00000000e+00  -1.77635684e-15   1.11022302e-16]\n",
      " [  0.00000000e+00   0.00000000e+00  -1.11022302e-16]\n",
      " [  0.00000000e+00   0.00000000e+00   3.33066907e-16]]\n",
      "[[  0.00000000e+00   0.00000000e+00   6.35274710e-22]\n",
      " [  0.00000000e+00   0.00000000e+00   0.00000000e+00]\n",
      " [  0.00000000e+00   0.00000000e+00   0.00000000e+00]\n",
      " [  0.00000000e+00   0.00000000e+00   0.00000000e+00]\n",
      " [  0.00000000e+00   0.00000000e+00   0.00000000e+00]]\n"
     ]
    }
   ],
   "source": [
    "print(d_x_shift)\n",
    "print(d_v_shift)"
   ]
  },
  {
   "cell_type": "markdown",
   "metadata": {},
   "source": [
    "We see that the first and last bodies have errors around the expected floating point limit, and these dominate the resulting error (which is well within the expected bound)."
   ]
  },
  {
   "cell_type": "markdown",
   "metadata": {},
   "source": [
    "Yet another coordinate transformation can be tried without affecting the results: a rotation. We'll pick three random Euler angles and [set up the rotation matrix](http://en.wikipedia.org/wiki/Rotation_matrix#In_three_dimensions). In general, we should do a translation first to ensure no body is at the origin (here, the Sun will be), to avoid specializing the problem, but given the generality of the code that's a very minor worry."
   ]
  },
  {
   "cell_type": "code",
   "execution_count": 45,
   "metadata": {
    "collapsed": true
   },
   "outputs": [],
   "source": [
    "def rotate_bodies(bodies, angles, invert=False):\n",
    "    \"\"\"\n",
    "    Rotate the coordinates of all bodies.\n",
    "    \"\"\"\n",
    "    \n",
    "    Rx = numpy.array([[1.0, 0.0, 0.0],\n",
    "                      [0.0, numpy.cos(angles[0]), -numpy.sin(angles[0])],\n",
    "                      [0.0, numpy.sin(angles[0]), numpy.cos(angles[0])]])\n",
    "    Ry = numpy.array([[numpy.cos(angles[1]), 0.0, numpy.sin(angles[1])],\n",
    "                      [0.0, 1.0, 0.0],\n",
    "                      [-numpy.sin(angles[1]), 0.0, numpy.cos(angles[1])]])\n",
    "    Rz = numpy.array([[numpy.cos(angles[2]), -numpy.sin(angles[2]), 0.0],\n",
    "                      [numpy.sin(angles[2]), numpy.cos(angles[2]), 0.0],\n",
    "                      [0.0, 0.0, 1.0]])\n",
    "    if invert:\n",
    "        R = numpy.dot(numpy.dot(Rx, Ry), Rz)\n",
    "    else:\n",
    "        R = numpy.dot(Rz, numpy.dot(Ry, Rx))\n",
    "    for i in range(len(bodies)):\n",
    "        x = numpy.array(bodies[i][0])\n",
    "        v = numpy.array(bodies[i][1])\n",
    "        xp = numpy.dot(R, x)\n",
    "        vp = numpy.dot(R, v)\n",
    "        for n in range(3):\n",
    "            bodies[i][0][n] = xp[n]\n",
    "            bodies[i][1][n] = vp[n]"
   ]
  },
  {
   "cell_type": "code",
   "execution_count": 46,
   "metadata": {
    "collapsed": false
   },
   "outputs": [
    {
     "name": "stdout",
     "output_type": "stream",
     "text": [
      "Norm of differences is 9.612914171481047e-15.\n"
     ]
    }
   ],
   "source": [
    "angles = numpy.pi/4.0*numpy.random.rand(3) # Random Euler angles in [0, pi/4]\n",
    "bodies_rotate = copy.deepcopy(SYSTEM)\n",
    "rotate_bodies(bodies_rotate, angles)\n",
    "advance(dt=0.01, n=1, bodies=bodies_rotate, pairs=combinations(bodies_rotate))\n",
    "rotate_bodies(bodies_rotate, -angles, invert=True)\n",
    "norm_rotate, d_x_rotate, d_v_rotate = differences(bodies, bodies_rotate)\n",
    "print(\"Norm of differences is {}.\".format(norm_rotate))"
   ]
  },
  {
   "cell_type": "markdown",
   "metadata": {},
   "source": [
    "The size of the differences is considerably larger, thanks to the number of operations performed. With three rotation matrices combined, each containing nine entries, applied to five bodies, we would expect a total error of the order of:"
   ]
  },
  {
   "cell_type": "code",
   "execution_count": 47,
   "metadata": {
    "collapsed": false
   },
   "outputs": [
    {
     "data": {
      "text/plain": [
       "1.5456386170953351e-14"
      ]
     },
     "execution_count": 47,
     "metadata": {},
     "output_type": "execute_result"
    }
   ],
   "source": [
    "3*9*5*numpy.sum(numpy.abs(numpy.spacing(angles)))"
   ]
  },
  {
   "cell_type": "markdown",
   "metadata": {},
   "source": [
    "We could also try scaling the coordinates and the masses. As the [force goes as](http://en.wikipedia.org/wiki/N-body_problem#General_formulation) $M^2/L^2$, if we scale time, position and mass by the same amount then the results should not change. Note that because we scale *both* length and time, the velocity does not change."
   ]
  },
  {
   "cell_type": "code",
   "execution_count": 48,
   "metadata": {
    "collapsed": true
   },
   "outputs": [],
   "source": [
    "def scale_bodies(bodies, scale):\n",
    "    \"\"\"\n",
    "    Scale coordinates and masses.\n",
    "    \"\"\"\n",
    "    \n",
    "    bodies_scale = []\n",
    "    for (x, v, m) in bodies:\n",
    "        new_x = copy.deepcopy(x)\n",
    "        new_v = copy.deepcopy(v)\n",
    "        new_m = m * scale\n",
    "        for i in range(3):\n",
    "            new_x[i] *= scale\n",
    "        bodies_scale.append((new_x, new_v, new_m))\n",
    "    \n",
    "    return bodies_scale"
   ]
  },
  {
   "cell_type": "code",
   "execution_count": 49,
   "metadata": {
    "collapsed": false
   },
   "outputs": [
    {
     "name": "stdout",
     "output_type": "stream",
     "text": [
      "Norm of differences is 0.0.\n"
     ]
    }
   ],
   "source": [
    "scale = 2.0\n",
    "bodies_scale = scale_bodies(SYSTEM, scale)\n",
    "advance(dt=0.02, n=1, bodies=bodies_scale, pairs=combinations(bodies_scale))\n",
    "bodies_rescale = scale_bodies(bodies_scale, 1.0/scale)\n",
    "norm_scale, d_x_scale, d_v_scale = differences(bodies, bodies_rescale)\n",
    "print(\"Norm of differences is {}.\".format(norm_scale))"
   ]
  }
 ],
 "metadata": {
  "kernelspec": {
   "display_name": "Python 3",
   "language": "python",
   "name": "python3"
  },
  "language_info": {
   "codemirror_mode": {
    "name": "ipython",
    "version": 3
   },
   "file_extension": ".py",
   "mimetype": "text/x-python",
   "name": "python",
   "nbconvert_exporter": "python",
   "pygments_lexer": "ipython3",
   "version": "3.4.2"
  }
 },
 "nbformat": 4,
 "nbformat_minor": 0
}
