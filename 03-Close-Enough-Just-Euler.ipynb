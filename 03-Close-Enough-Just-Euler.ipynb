{
 "cells": [
  {
   "cell_type": "markdown",
   "metadata": {},
   "source": [
    "# Just Euler's method"
   ]
  },
  {
   "cell_type": "markdown",
   "metadata": {},
   "source": [
    "$$\n",
    "\\newcommand{\\dt}{\\Delta t}\n",
    "\\newcommand{\\ydt}[1]{y^{({#1})}(X)}\n",
    "\\newcommand{\\Edt}[1]{E^{({#1})}}\n",
    "\\newcommand{\\yone}[1]{y_{1}^{({#1})}}\n",
    "$$"
   ]
  },
  {
   "cell_type": "markdown",
   "metadata": {},
   "source": [
    "In the previous cases we've focused on the *behaviour* of the algorithm: whether it will give the correct answer in the limit, or whether it converges as expected.  This is really what you want to do: you're trying to do science, to get an answer, and so implementing the precise algorithm should be secondary.  If you are trying to implement a precise algorithm, it should be because of its (expected) behaviour, and so you should be testing for that!\n",
    "\n",
    "However, let's put that aside and see if we can work out how to test whether we've implemented exactly the algorithm we want: Euler's method. Checking convergence alone is not enough: the [Backwards Euler method](http://en.wikipedia.org/wiki/Backward_Euler_method) has identical convergence behaviour, as do whole families of other methods. We need a check that characterizes the method uniquely."
   ]
  },
  {
   "cell_type": "markdown",
   "metadata": {},
   "source": [
    "The *local truncation error* $\\Edt{\\dt}$ would be exactly such a check. This is the error produced by a single step from exact data, eg\n",
    "\n",
    "$$\n",
    "\\begin{equation}\n",
    "  \\Edt{\\dt} = y_1 - y(\\dt).\n",
    "\\end{equation}\n",
    "$$\n",
    "\n",
    "For Euler's method we have\n",
    "\n",
    "$$\n",
    "\\begin{equation}\n",
    "  y_{n+1} = y_n + \\dt f(t_n, y_n)\n",
    "\\end{equation}\n",
    "$$\n",
    "\n",
    "and so\n",
    "\n",
    "\n",
    "$$\n",
    "\\begin{equation}\n",
    "  \\Edt{\\dt} = \\left| y_0 + \\dt f(0, y_0) - y(\\dt) \\right| =  \\left| \\frac{\\dt^2}{2} \\left. y''\\right|_{t=0} \\right| + {\\cal O}(\\dt^3).\n",
    "\\end{equation}\n",
    "$$\n"
   ]
  },
  {
   "cell_type": "markdown",
   "metadata": {},
   "source": [
    "This is all well and good, but we don't know the exact solution (in principle) at any point other than $t=0$, so cannot compute $y(\\dt)$, so cannot compute $\\Edt{\\dt}$. We only know $\\yone{\\dt}$ for whichever values of $\\dt$ we wish to compute."
   ]
  },
  {
   "cell_type": "markdown",
   "metadata": {},
   "source": [
    "We can use repeated Richardson extrapolation to get the solution $y(\\dt)$ to sufficient accuracy, however. On the *assumption* that the algorithm is first order (we can use the previous techniques to check this), we can use Richardson extrapolation to repeatedly remove the highest order error terms. We can thus find the local truncation errors."
   ]
  },
  {
   "cell_type": "code",
   "execution_count": 101,
   "metadata": {
    "collapsed": true
   },
   "outputs": [],
   "source": [
    "from math import sin, cos, log, ceil\n",
    "import numpy\n",
    "from matplotlib import pyplot\n",
    "%matplotlib inline\n",
    "from matplotlib import rcParams\n",
    "rcParams['font.family'] = 'serif'\n",
    "rcParams['font.size'] = 16"
   ]
  },
  {
   "cell_type": "code",
   "execution_count": 102,
   "metadata": {
    "collapsed": true
   },
   "outputs": [],
   "source": [
    "# model parameters:\n",
    "g = 9.8      # gravity in m s^{-2}\n",
    "v_t = 30.0   # trim velocity in m s^{-1}   \n",
    "C_D = 1/40.  # drag coefficient --- or D/L if C_L=1\n",
    "C_L = 1.0    # for convenience, use C_L = 1\n",
    "\n",
    "### set initial conditions ###\n",
    "v0 = v_t     # start at the trim velocity (or add a delta)\n",
    "theta0 = 0.0 # initial angle of trajectory\n",
    "x0 = 0.0     # horizotal position is arbitrary\n",
    "y0 = 1000.0  # initial altitude"
   ]
  },
  {
   "cell_type": "code",
   "execution_count": 103,
   "metadata": {
    "collapsed": true
   },
   "outputs": [],
   "source": [
    "def f(u):\n",
    "    \"\"\"Returns the right-hand side of the phugoid system of equations.\n",
    "    \n",
    "    Parameters\n",
    "    ----------\n",
    "    u : array of float\n",
    "        array containing the solution at time n.\n",
    "        \n",
    "    Returns\n",
    "    -------\n",
    "    dudt : array of float\n",
    "        array containing the RHS given u.\n",
    "    \"\"\"\n",
    "    \n",
    "    v = u[0]\n",
    "    theta = u[1]\n",
    "    x = u[2]\n",
    "    y = u[3]\n",
    "    return numpy.array([-g*sin(theta) - C_D/C_L*g/v_t**2*v**2,\n",
    "                      -g*cos(theta)/v + g/v_t**2*v,\n",
    "                      v*cos(theta),\n",
    "                      v*sin(theta)])"
   ]
  },
  {
   "cell_type": "code",
   "execution_count": 104,
   "metadata": {
    "collapsed": true
   },
   "outputs": [],
   "source": [
    "def euler_step(u, f, dt):\n",
    "    \"\"\"Returns the solution at the next time-step using Euler's method.\n",
    "    \n",
    "    Parameters\n",
    "    ----------\n",
    "    u : array of float\n",
    "        solution at the previous time-step.\n",
    "    f : function\n",
    "        function to compute the right hand-side of the system of equation.\n",
    "    dt : float\n",
    "        time-increment.\n",
    "    \n",
    "    Returns\n",
    "    -------\n",
    "    u_n_plus_1 : array of float\n",
    "        approximate solution at the next time step.\n",
    "    \"\"\"\n",
    "    \n",
    "    return u + dt * f(u)"
   ]
  },
  {
   "cell_type": "code",
   "execution_count": 105,
   "metadata": {
    "collapsed": false
   },
   "outputs": [],
   "source": [
    "T_values = numpy.array([0.001*2**(i) for i in range(10)])\n",
    "lte_values = numpy.zeros_like(T_values)\n",
    "for j, T in enumerate(T_values):\n",
    "    dt_values = numpy.array([T*2**(i-8) for i in range(8)])\n",
    "    v_values = numpy.zeros_like(dt_values)\n",
    "    for i, dt in enumerate(dt_values):\n",
    "        N = int(T/dt)+1\n",
    "        t = numpy.linspace(0.0, T, N)\n",
    "        u = numpy.empty((N, 4))\n",
    "        u[0] = numpy.array([v0, theta0, x0, y0])\n",
    "        for n in range(N-1):\n",
    "            u[n+1] = euler_step(u[n], f, dt)\n",
    "        v_values[i] = u[-1,0]\n",
    "    v_next = v_values\n",
    "    for s in range(1, len(v_values-1)):\n",
    "        v_next = (2**s*v_next[1:]-v_next[0:-1])/(2**s-1)\n",
    "    lte_values[j] = abs(v_values[0]-v_next)"
   ]
  },
  {
   "cell_type": "code",
   "execution_count": 106,
   "metadata": {
    "collapsed": false
   },
   "outputs": [
    {
     "data": {
      "text/plain": [
       "array([  1.99954897e-09,   8.05573563e-09,   3.26825287e-08,\n",
       "         1.34407252e-07,   5.67045063e-07,   2.50349015e-06,\n",
       "         1.18961299e-05,   6.26360623e-05,   3.70836832e-04,\n",
       "         2.44291651e-03])"
      ]
     },
     "execution_count": 106,
     "metadata": {},
     "output_type": "execute_result"
    }
   ],
   "source": [
    "lte_values"
   ]
  },
  {
   "cell_type": "markdown",
   "metadata": {},
   "source": [
    "We now have four values for the local truncation error. We can thus compute the convergence rate of the local truncation error itself (which should be two), and check that it is close enough to the expected value using the previous techniques:"
   ]
  },
  {
   "cell_type": "code",
   "execution_count": 107,
   "metadata": {
    "collapsed": false
   },
   "outputs": [
    {
     "name": "stdout",
     "output_type": "stream",
     "text": [
      "Measured convergence rate (base dt 0.001) is 2.02375 (error is 0.02375).\n",
      "Measured convergence rate (base dt 0.002) is 2.04637 (error is 0.04637).\n",
      "Convergence error has reduced by factor 0.5121.\n"
     ]
    }
   ],
   "source": [
    "s_m = numpy.zeros(2)\n",
    "for i in range(2):\n",
    "    s_m[i] = log(abs((lte_values[2+i]-lte_values[1+i])/\n",
    "                     (lte_values[1+i]-lte_values[0+i]))) / log(2.0)\n",
    "    print(\"Measured convergence rate (base dt {}) is {:.6g} (error is {:.4g}).\".format(\n",
    "            T_values[i], s_m[i], abs(s_m[i]-2)))\n",
    "print(\"Convergence error has reduced by factor {:.4g}.\".format(\n",
    "        abs(s_m[0]-2)/abs(s_m[1]-2)))"
   ]
  },
  {
   "cell_type": "markdown",
   "metadata": {},
   "source": [
    "So the error has gone down considerably, and certainly $0.51 < 2/3$, so the convergence rate of the local truncation error is close enough to 2."
   ]
  },
  {
   "cell_type": "markdown",
   "metadata": {},
   "source": [
    "However, that alone isn't enough to determine that this really is Euler's method: as noted above, the convergence rate of the local truncation error isn't the key point: the key point is that we can predict its *actual value* as\n",
    "\n",
    "$$\n",
    "\\begin{equation}\n",
    "  \\Edt{\\dt} =  \\frac{\\dt^2}{2} \\left| \\left. y''\\right|_{t=0} \\right| + {\\cal O}(\\dt^3) = \\frac{\\dt^2}{2} \\left| \\left( \\left. \\frac{\\partial f}{\\partial t} \\right|_{t=0} + f(0, y_0) \\left. \\frac{\\partial f}{\\partial y} \\right|_{t=0, y=y_0} \\right) \\right|.\n",
    "\\end{equation}\n",
    "$$\n",
    "\n",
    "For the specific problem considered here we have\n",
    "\n",
    "$$\n",
    "\\begin{equation}\n",
    "  y = \\begin{pmatrix} v \\\\ \\theta \\\\ x \\\\ y \\end{pmatrix}, \\quad f = \\begin{pmatrix} -g\\sin \\theta - \\frac{C_D}{C_L} \\frac{g}{v_t^2} v^2 \\\\ -\\frac{g}{v}\\cos \\theta + \\frac{g}{v_t^2} v \\\\ v \\cos \\theta \\\\ v \\sin \\theta \\end{pmatrix}.\n",
    "\\end{equation}\n",
    "$$\n",
    "\n",
    "We note that $f$ does not explicitly depend on $t$ (so $\\partial f / \\partial t \\equiv 0$), and that the values of the parameters $g, C_D, C_L$ and $v_t$ are given above, along with the initial data $y_0 = (v_0, \\theta_0, x_0, y_0)$."
   ]
  },
  {
   "cell_type": "markdown",
   "metadata": {},
   "source": [
    "So, let's find what the local truncation error should be."
   ]
  },
  {
   "cell_type": "code",
   "execution_count": 108,
   "metadata": {
    "collapsed": false
   },
   "outputs": [],
   "source": [
    "import sympy\n",
    "sympy.init_printing()\n",
    "v, theta, x, y, g, CD, CL, vt, dt = sympy.symbols('v, theta, x, y, g, C_D, C_L, v_t, {\\Delta}t')\n",
    "u = sympy.Matrix([v, theta, x, y])\n",
    "f = sympy.Matrix([-g*sympy.sin(theta)-CD/CL*g/vt**2*v**2, \n",
    "                  -g/v*sympy.cos(theta)+g/vt**2*v, \n",
    "                  v*sympy.cos(theta), \n",
    "                  v*sympy.sin(theta)])\n",
    "dfdu = f.jacobian(u)\n",
    "lte=dt**2/2*dfdu*f"
   ]
  },
  {
   "cell_type": "code",
   "execution_count": 109,
   "metadata": {
    "collapsed": false
   },
   "outputs": [
    {
     "data": {
      "image/png": "[encoded data removed]",
      "text/latex": [
       "$$\\left[\\begin{matrix}0.00200083333333333 {\\Delta}t^{2}\\\\- 0.00266777777777778 {\\Delta}t^{2}\\\\- 0.1225 {\\Delta}t^{2}\\\\0\\end{matrix}\\right]$$"
      ],
      "text/plain": [
       "⎡                             2 ⎤\n",
       "⎢0.00200083333333333⋅{\\Delta}t  ⎥\n",
       "⎢                               ⎥\n",
       "⎢                              2⎥\n",
       "⎢-0.00266777777777778⋅{\\Delta}t ⎥\n",
       "⎢                               ⎥\n",
       "⎢                       2       ⎥\n",
       "⎢      -0.1225⋅{\\Delta}t        ⎥\n",
       "⎢                               ⎥\n",
       "⎣               0               ⎦"
      ]
     },
     "execution_count": 109,
     "metadata": {},
     "output_type": "execute_result"
    }
   ],
   "source": [
    "lte_0=lte.subs([(g,9.8),(vt,30.0),(CD,1.0/40.0),(CL,1.0),(v,30.0),(theta,0.0),(x,0.0),(y,1000.0)])\n",
    "lte_0"
   ]
  },
  {
   "cell_type": "markdown",
   "metadata": {},
   "source": [
    "So let us check the local truncation error values, which are computed for `v`:"
   ]
  },
  {
   "cell_type": "code",
   "execution_count": 114,
   "metadata": {
    "collapsed": false
   },
   "outputs": [
    {
     "data": {
      "text/plain": [
       "array([ 0.00199955,  0.00201393,  0.00204266,  0.00210011,  0.00221502,\n",
       "        0.00244481,  0.00290433,  0.003823  ,  0.00565852,  0.00931899])"
      ]
     },
     "execution_count": 114,
     "metadata": {},
     "output_type": "execute_result"
    }
   ],
   "source": [
    "lte_values/T_values**2"
   ]
  },
  {
   "cell_type": "markdown",
   "metadata": {},
   "source": [
    "These are indeed converging towards $0.002 \\dt^2$ as they should. To check this quantitatively, we use that our model is\n",
    "\n",
    "$$\n",
    "\\begin{equation}\n",
    "  \\Edt{\\dt} = \\alpha \\dt^2 + {\\cal O}(\\dt^3),\n",
    "\\end{equation}\n",
    "$$\n",
    "\n",
    "with the exact value $\\alpha_e \\simeq 0.002$. So we can use our usual Richardson extrapolation methods applied to $\\Edt{\\dt}/\\dt^2$, to get a measured value for $\\alpha$ with an error interval:\n",
    "\n",
    "$$\n",
    "\\begin{equation}\n",
    "  \\alpha_m  = \\frac{8\\Edt{\\dt} - \\Edt{2\\dt} \\pm \\left| \\Edt{\\dt} - \\Edt{2\\dt} \\right|}{4\\dt^2}.\n",
    "\\end{equation}\n",
    "$$"
   ]
  },
  {
   "cell_type": "code",
   "execution_count": 113,
   "metadata": {
    "collapsed": false
   },
   "outputs": [
    {
     "name": "stdout",
     "output_type": "stream",
     "text": [
      "Base dt=0.001: the measured alpha is in [0.00047112, 0.0034992]\n",
      "Does this contain the exact value? True\n",
      "Base dt=0.002: the measured alpha is in [0.00044604, 0.0035244]\n",
      "Does this contain the exact value? True\n",
      "Base dt=0.004: the measured alpha is in [0.00039575, 0.0035747]\n",
      "Does this contain the exact value? True\n",
      "Base dt=0.008: the measured alpha is in [0.00029522, 0.0036752]\n",
      "Does this contain the exact value? True\n",
      "Base dt=0.016: the measured alpha is in [9.4165e-05, 0.0038763]\n",
      "Does this contain the exact value? True\n",
      "Base dt=0.032: the measured alpha is in [-0.00030782, 0.0042784]\n",
      "Does this contain the exact value? True\n",
      "Base dt=0.064: the measured alpha is in [-0.0011113, 0.0050826]\n",
      "Does this contain the exact value? True\n",
      "Base dt=0.128: the measured alpha is in [-0.0027153, 0.0066903]\n",
      "Does this contain the exact value? True\n",
      "Base dt=0.256: the measured alpha is in [-0.0059063, 0.0099024]\n",
      "Does this contain the exact value? True\n"
     ]
    }
   ],
   "source": [
    "for i in range(len(lte_values)-1):\n",
    "    Edt = lte_values[i]\n",
    "    E2dt = lte_values[i+1]\n",
    "    dt = T_values[i]\n",
    "    err1 = abs(Edt - E2dt)\n",
    "    a_lo = (8.0*Edt - E2dt - err1)/(4.0*dt**2)\n",
    "    a_hi = (8.0*Edt - E2dt + err1)/(4.0*dt**2)\n",
    "    print(\"Base dt={:.4g}: the measured alpha is in [{:.5g}, {:.5g}]\".format(\n",
    "            dt, a_lo, a_hi))\n",
    "    print(\"Does this contain the exact value? {}\".format(\n",
    "            a_lo <= lte_exact <= a_hi))"
   ]
  },
  {
   "cell_type": "markdown",
   "metadata": {},
   "source": [
    "So, to the limits that we can measure the local truncation error, we have implemented Euler's method."
   ]
  }
 ],
 "metadata": {
  "kernelspec": {
   "display_name": "Python 3",
   "language": "python",
   "name": "python3"
  },
  "language_info": {
   "codemirror_mode": {
    "name": "ipython",
    "version": 3
   },
   "file_extension": ".py",
   "mimetype": "text/x-python",
   "name": "python",
   "nbconvert_exporter": "python",
   "pygments_lexer": "ipython3",
   "version": "3.4.2"
  }
 },
 "nbformat": 4,
 "nbformat_minor": 0
}
